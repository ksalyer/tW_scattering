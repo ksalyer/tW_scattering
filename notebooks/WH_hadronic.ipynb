{
 "cells": [
  {
   "cell_type": "markdown",
   "metadata": {},
   "source": [
    "# WH all hadronic analysis\n",
    "\n",
    "Basic implementation of an all-hadronic WH search in the top-W scattering framework:\n",
    "- Loose Lepton veto\n",
    "- at least 2 jets\n",
    "- at least one b-tagged jets\n",
    "- high MET\n",
    "- veto QCD\n",
    "\n"
   ]
  },
  {
   "cell_type": "code",
   "execution_count": 2,
   "metadata": {},
   "outputs": [
    {
     "name": "stdout",
     "output_type": "stream",
     "text": [
      "The autoreload extension is already loaded. To reload it, use:\n",
      "  %reload_ext autoreload\n"
     ]
    }
   ],
   "source": [
    "%load_ext autoreload\n",
    "%autoreload 2\n",
    "\n",
    "import os\n",
    "import time\n",
    "import glob\n",
    "import re\n",
    "import pandas as pd\n",
    "from functools import reduce\n",
    "from klepto.archives import dir_archive\n",
    "\n",
    "import numpy as np\n",
    "from tqdm.auto import tqdm\n",
    "import coffea.processor as processor\n",
    "from coffea.processor.accumulator import AccumulatorABC\n",
    "from coffea.analysis_objects import JaggedCandidateArray\n",
    "from coffea.btag_tools import BTagScaleFactor\n",
    "from coffea import hist\n",
    "import pandas as pd\n",
    "import uproot_methods\n",
    "import uproot\n",
    "import awkward\n",
    "import copy\n",
    "\n",
    "%matplotlib inline\n",
    "import matplotlib\n",
    "import matplotlib.pyplot as plt\n",
    "from matplotlib.colors import LogNorm\n",
    "\n",
    "from Tools.config_helpers import *\n",
    "from Tools.helpers import mergeArray, mt, get_scheduler_address\n",
    "\n",
    "from Tools.objects import Collections\n",
    "from Tools.cutflow import Cutflow\n",
    "\n",
    "# This just tells matplotlib not to open any\n",
    "# interactive windows.\n",
    "matplotlib.use('Agg')"
   ]
  },
  {
   "cell_type": "code",
   "execution_count": 3,
   "metadata": {},
   "outputs": [],
   "source": [
    "def pad_and_flatten(val): \n",
    "    try:\n",
    "        return val.pad(1, clip=True).fillna(0.).flatten()#.reshape(-1, 1)\n",
    "    except AttributeError:\n",
    "        return val.flatten()\n",
    "\n",
    "#os.environ['KERAS_BACKEND'] = 'theano'\n",
    "#from keras.models import load_model\n"
   ]
  },
  {
   "cell_type": "code",
   "execution_count": 4,
   "metadata": {},
   "outputs": [
    {
     "name": "stdout",
     "output_type": "stream",
     "text": [
      "10000\n"
     ]
    }
   ],
   "source": [
    "import sys\n",
    "sys.setrecursionlimit(10000)\n",
    "print(sys.getrecursionlimit())"
   ]
  },
  {
   "cell_type": "code",
   "execution_count": 22,
   "metadata": {},
   "outputs": [],
   "source": [
    "from Tools.WH_objects import *\n",
    "from Tools.WH_scalefactors import LeptonSF\n",
    "from Tools.WH_deepAK8 import getWTagSF"
   ]
  },
  {
   "cell_type": "code",
   "execution_count": 152,
   "metadata": {},
   "outputs": [],
   "source": [
    "year = 2018\n",
    "class analysisProcessor(processor.ProcessorABC):\n",
    "    \"\"\"Processor used for running the analysis\"\"\"\n",
    "    def __init__(self):\n",
    "        \n",
    "        ## load b-tag SFs\n",
    "        #self.btag_sf = BTagScaleFactor(os.path.expandvars(\"$TWHOME/data/DeepCSV_102XSF_V1.btag.csv.gz\", \"reshape\")\n",
    "\n",
    "        ## load the NN\n",
    "        #self.model = load_model('../ML/data/training.h5')\n",
    "        #self.stds  = pd.read_json('../ML/data/stds.json').squeeze()\n",
    "        #self.means = pd.read_json('../ML/data/means.json').squeeze()\n",
    "        \n",
    "        # we can use a large number of bins and rebin later\n",
    "        dataset_axis        = hist.Cat(\"dataset\",   \"Primary dataset\")\n",
    "        pt_axis             = hist.Bin(\"pt\",        r\"$p_{T}$ (GeV)\", 1000, 0, 1000)\n",
    "        p_axis              = hist.Bin(\"p\",         r\"$p$ (GeV)\", 1000, 0, 2500)\n",
    "        ht_axis             = hist.Bin(\"ht\",        r\"$H_{T}$ (GeV)\", 500, 0, 5000)\n",
    "        mass_axis           = hist.Bin(\"mass\",      r\"M (GeV)\", 1000, 0, 2000)\n",
    "        eta_axis            = hist.Bin(\"eta\",       r\"$\\eta$\", 60, -5.5, 5.5)\n",
    "        delta_axis          = hist.Bin(\"delta\",     r\"$\\delta$\", 100,0,10 )\n",
    "        deltaPhi_axis          = hist.Bin(\"deltaPhi\",     r\"$\\delta$\", 64,0,3.2 )\n",
    "        multiplicity_axis   = hist.Bin(\"multiplicity\",         r\"N\", 20, -0.5, 19.5)\n",
    "        norm_axis           = hist.Bin(\"norm\",         r\"N\", 25, 0, 1)\n",
    "\n",
    "        self._accumulator = processor.dict_accumulator({\n",
    "            \"MET_pt_baseline\" :          hist.Hist(\"Counts\", dataset_axis, pt_axis),\n",
    "            \"HT_baseline\" :              hist.Hist(\"Counts\", dataset_axis, ht_axis),\n",
    "            \"mtb_min_baseline\" :         hist.Hist(\"Counts\", dataset_axis, mass_axis),\n",
    "            \"MET_pt\" :          hist.Hist(\"Counts\", dataset_axis, pt_axis),\n",
    "            \"HT\" :              hist.Hist(\"Counts\", dataset_axis, ht_axis),\n",
    "            \"mtb_min\" :         hist.Hist(\"Counts\", dataset_axis, mass_axis),\n",
    "            \"MET_pt_SR\" :       hist.Hist(\"Counts\", dataset_axis, pt_axis),\n",
    "            \"MET_pt_CR\" :       hist.Hist(\"Counts\", dataset_axis, pt_axis),\n",
    "            \"MET_pt_VR_CR\" :    hist.Hist(\"Counts\", dataset_axis, pt_axis),\n",
    "            \"MET_pt_VR_SR\" :    hist.Hist(\"Counts\", dataset_axis, pt_axis),\n",
    "            \"MET_pt_TT\" :       hist.Hist(\"Counts\", dataset_axis, pt_axis),\n",
    "            \"HT_SR\" :           hist.Hist(\"Counts\", dataset_axis, ht_axis),\n",
    "            \"mtb_min_SR\" :      hist.Hist(\"Counts\", dataset_axis, mass_axis),\n",
    "            \"mth_min_SR\" :      hist.Hist(\"Counts\", dataset_axis, mass_axis),\n",
    "            \"mth_min\" :         hist.Hist(\"Counts\", dataset_axis, mass_axis),\n",
    "            \"mtw_min_SR\" :      hist.Hist(\"Counts\", dataset_axis, mass_axis),\n",
    "            \"lead_AK8_pt\" :     hist.Hist(\"Counts\", dataset_axis, pt_axis),\n",
    "            \"W_pt\" :            hist.Hist(\"Counts\", dataset_axis, pt_axis),\n",
    "            \"H_pt\" :            hist.Hist(\"Counts\", dataset_axis, pt_axis),\n",
    "            \"W_msoftdrop\":      hist.Hist(\"Counts\", dataset_axis, mass_axis),\n",
    "            \"H_msoftdrop\":      hist.Hist(\"Counts\", dataset_axis, mass_axis),\n",
    "            \"H_msoftdrop_incl\": hist.Hist(\"Counts\", dataset_axis, mass_axis),\n",
    "            \"W_mass\":           hist.Hist(\"Counts\", dataset_axis, mass_axis),\n",
    "            \"H_mass\":           hist.Hist(\"Counts\", dataset_axis, mass_axis),\n",
    "            \"W_eta\" :           hist.Hist(\"Counts\", dataset_axis, eta_axis),\n",
    "            \"H_eta\" :           hist.Hist(\"Counts\", dataset_axis, eta_axis),\n",
    "            \n",
    "            \"N_b\" :             hist.Hist(\"Counts\", dataset_axis, multiplicity_axis),\n",
    "            \"N_AK4\" :           hist.Hist(\"Counts\", dataset_axis, multiplicity_axis),\n",
    "            \"N_AK4_SR\" :        hist.Hist(\"Counts\", dataset_axis, multiplicity_axis),\n",
    "            \"N_AK8\" :           hist.Hist(\"Counts\", dataset_axis, multiplicity_axis),\n",
    "            \"N_H\" :             hist.Hist(\"Counts\", dataset_axis, multiplicity_axis),\n",
    "            \"N_W\" :             hist.Hist(\"Counts\", dataset_axis, multiplicity_axis),\n",
    "            \n",
    "            \"WH_deltaPhi\":      hist.Hist(\"Counts\", dataset_axis, delta_axis),\n",
    "            \"WH_deltaR\":        hist.Hist(\"Counts\", dataset_axis, delta_axis),\n",
    "            \"bb_deltaPhi\":      hist.Hist(\"Counts\", dataset_axis, delta_axis),\n",
    "            \"bb_deltaR\":        hist.Hist(\"Counts\", dataset_axis, delta_axis),\n",
    "            \"min_dphiJetMet4\":  hist.Hist(\"Counts\", dataset_axis, delta_axis),\n",
    "            \"min_dphiFatJetMet4\":  hist.Hist(\"Counts\", dataset_axis, delta_axis),\n",
    "            \"min_deltaRAK4AK8\": hist.Hist(\"Counts\", dataset_axis, delta_axis),\n",
    "            \"min_deltaRAK4AK8_SR\": hist.Hist(\"Counts\", dataset_axis, delta_axis),\n",
    "            \"dphiDiJet\":        hist.Hist(\"Counts\", dataset_axis, delta_axis),\n",
    "            \"dphiDiFatJet\":     hist.Hist(\"Counts\", dataset_axis, delta_axis),\n",
    "            \"antiQCDcorrelation\": hist.Hist(\"Counts\", dataset_axis, delta_axis, deltaPhi_axis),\n",
    "            \n",
    "            'mC750_l1':         processor.defaultdict_accumulator(int),\n",
    "            '750_1_scan':       processor.defaultdict_accumulator(int),\n",
    "            '1000_1_scan':      processor.defaultdict_accumulator(int),\n",
    "            'WJets':            processor.defaultdict_accumulator(int),\n",
    "            'QCD':              processor.defaultdict_accumulator(int),\n",
    "            'TTJets':           processor.defaultdict_accumulator(int),\n",
    "            'ZNuNu':            processor.defaultdict_accumulator(int),\n",
    "            'ST':               processor.defaultdict_accumulator(int),\n",
    "            'ttW/ttZ':          processor.defaultdict_accumulator(int),\n",
    "            'WW/WZ/ZZ':         processor.defaultdict_accumulator(int),\n",
    "            'LL':               processor.defaultdict_accumulator(int),\n",
    "            'Data':             processor.defaultdict_accumulator(int),\n",
    "            'totalEvents':      processor.defaultdict_accumulator(int),\n",
    "            'test1':            processor.defaultdict_accumulator(float),\n",
    "        })\n",
    "\n",
    "    @property\n",
    "    def accumulator(self):\n",
    "        return self._accumulator\n",
    "\n",
    "    def process(self, df):\n",
    "        \"\"\"\n",
    "        Processing function. This is where the actual analysis happens.\n",
    "        \"\"\"\n",
    "        output = self.accumulator.identity()\n",
    "        dataset = df[\"dataset\"]\n",
    "        cfg = loadConfig()\n",
    "        \n",
    "        ## This is hacked in and should go somewhere else\n",
    "        signal_xsec = {'750_1_scan': {'xsec': 6.69356, 'sumweight': 68870.0},\n",
    "                      '1000_1_scan': {'xsec': 1.34352, 'sumweight': 77478.0}}\n",
    "        \n",
    "        ## correct x-sec\n",
    "        if dataset.count('scan'):\n",
    "            df['weight'] = df['weight'] * signal_xsec[dataset]['xsec'] / signal_xsec[dataset]['sumweight']\n",
    "        \n",
    "        ## MET -> can switch to puppi MET\n",
    "        met_pt  = df[\"MET_pt\"]\n",
    "        met_phi = df[\"MET_phi\"]\n",
    "        \n",
    "        muon          = getMuons(df, WP='veto')\n",
    "        electron      = getElectrons(df, WP='veto')\n",
    "        tau           = getTaus(df)\n",
    "        isotrack      = getIsoTracks(df)\n",
    "        fatjet        = getFatJets(df)\n",
    "        jet           = getJets(df)\n",
    "        \n",
    "        filters  = getFilters(df, year=year, dataset=dataset)\n",
    "        triggers = getTriggers(df, year=year, dataset=dataset)\n",
    "        \n",
    "        sf = LeptonSF(year=year)\n",
    "        leptonSF = sf.get(electron, muon)\n",
    "        \n",
    "        leadingFatJets = fatjet[:,:2]\n",
    "        difatjet = leadingFatJets.choose(2)\n",
    "        dphiDiFatJet = np.arccos(np.cos(difatjet.i0.phi-difatjet.i1.phi))\n",
    "        \n",
    "        min_dphiFatJetMet4 = np.arccos(np.cos(fatjet[:,:4].phi-met_phi)).min()\n",
    "        \n",
    "        htag = fatjet[((fatjet.pt > 200) & (fatjet.deepTagMD_HbbvsQCD > 0.8365))]\n",
    "        htag_hard = fatjet[((fatjet.pt > 300) & (fatjet.deepTagMD_HbbvsQCD > 0.8365))]\n",
    "        \n",
    "        lead_htag = htag[htag.pt.argmax()]\n",
    "        \n",
    "        # deepAK8 working points: https://twiki.cern.ch/twiki/bin/viewauth/CMS/DeepAK8Tagging2018WPsSFs\n",
    "        wtag = fatjet[((fatjet.pt > 200) & (fatjet.deepTagMD_HbbvsQCD < 0.8365) & (fatjet.deepTag_WvsQCD > 0.918))]\n",
    "        wtag_vloose = fatjet[((fatjet.pt > 200) & (fatjet.deepTagMD_HbbvsQCD < 0.8365) & (fatjet.deepTag_WvsQCD > 0.458))]\n",
    "        wtag_loose = fatjet[((fatjet.pt > 200) & (fatjet.deepTagMD_HbbvsQCD < 0.8365) & (fatjet.deepTag_WvsQCD > 0.762))]\n",
    "        wtag_hard = fatjet[((fatjet.pt > 300) & (fatjet.deepTagMD_HbbvsQCD < 0.8365) & (fatjet.deepTag_WvsQCD > 0.918))]\n",
    "        \n",
    "        if dataset.lower().count('data')==0:\n",
    "            GenW = getGenW(df)\n",
    "            wtag_SF = getWTagSF(wtag, GenW, year=year)\n",
    "        \n",
    "        lead_wtag = wtag[wtag.pt.argmax()]\n",
    "        \n",
    "        wh = lead_htag.cross(lead_wtag)\n",
    "        wh_deltaPhi = np.arccos(wh.i0.phi - wh.i1.phi)\n",
    "        wh_deltaR = wh.i0.p4.delta_r(wh.i1.p4)\n",
    "        \n",
    "        # clean AK4 jets\n",
    "        skimjet   = jet[(jet.pt>30) & (jet.jetId>1) & (abs(jet.eta)<2.4)]\n",
    "        jet       = jet[~jet.match(muon, deltaRCut=0.4)] # remove jets that overlap with muons\n",
    "        jet       = jet[~jet.match(electron, deltaRCut=0.4)] # remove jets that overlap with electrons\n",
    "        jet       = jet[jet.pt.argsort(ascending=False)] # sort the jets\n",
    "        extrajet  = jet[~jet.match(fatjet, deltaRCut=0.8)] # remove AK4 jets that overlap with AK8 jets\n",
    "        btag      = getBTags(jet, year=year)\n",
    "        \n",
    "        ## Get the leading b-jets\n",
    "        high_score_btag = jet[jet.btagDeepB.argsort(ascending=False)][:,:2]\n",
    "        \n",
    "        leading_jet    = jet[jet.pt.argmax()]\n",
    "        leading_b      = btag[btag.pt.argmax()]\n",
    "        \n",
    "        bb = high_score_btag.choose(2)\n",
    "        bb_deltaPhi = np.arccos(np.cos(bb.i0.phi-bb.i1.phi))\n",
    "        bb_deltaR = bb.i0.p4.delta_r(bb.i1.p4)\n",
    "        \n",
    "        mtb = mt(btag.pt, btag.phi, met_pt, met_phi)\n",
    "        mth = mt(htag.pt, htag.phi, met_pt, met_phi)\n",
    "        mtw = mt(wtag.pt, wtag.phi, met_pt, met_phi)\n",
    "        \n",
    "        ## other variables\n",
    "        ht = jet.pt.sum()\n",
    "        \n",
    "        min_dphiJetMet4 = np.arccos(np.cos(jet[:,:4].phi-met_phi)).min()\n",
    "        \n",
    "        leadingJets = jet[:,:2]\n",
    "        dijet = leadingJets.choose(2)\n",
    "        dphiDiJet = np.arccos(np.cos(dijet.i0.phi-dijet.i1.phi))\n",
    "        \n",
    "        diAK4AK8 = fatjet.cross(extrajet)\n",
    "        deltaRAK4AK8 = diAK4AK8.i0.p4.delta_r(diAK4AK8.i1.p4)\n",
    "        \n",
    "        \n",
    "        ## define selections (maybe move to a different file at some point)\n",
    "        \n",
    "        output['totalEvents']['all'] += len(df['weight'])\n",
    "        \n",
    "        # Cutflow\n",
    "        \n",
    "        blind_protection = True if dataset.lower().count('data')==0 else ((electron.counts+muon.counts)>0 | (htag.msoftdrop>180).all())\n",
    "\n",
    "        processes = ['mC750_l1', 'LL', 'QCD', 'ZNuNu', '750_1_scan', '1000_1_scan', 'Data']\n",
    "        \n",
    "        \n",
    "        weight      = np.ones(len(df['weight'])) if dataset=='Data' else df['weight']*df['puWeight']*leptonSF*wtag_SF\n",
    "        lumis       = {2016: 36., 2017: 41.5, 2018: 60.}\n",
    "        cfg['lumi'] = 1 if dataset=='Data' else lumis[year]\n",
    "        fullweight  = weight*cfg['lumi']\n",
    "        \n",
    "        cutflow = Cutflow(output, df, cfg, processes, weight=weight)\n",
    "        cutflow.addRow( 'blinded',  (blind_protection) )\n",
    "        cutflow.addRow( 'trigger',  (triggers) )\n",
    "        cutflow.addRow( 'filter',   (filters) )\n",
    "        cutflow.addRow( 'skim',     ((met_pt>200) & (skimjet.counts>1)) )\n",
    "        cutflow.addRow( 'electron veto',   (electron.counts==0) )\n",
    "        cutflow.addRow( 'muon veto',   (muon.counts==0) )\n",
    "        cutflow.addRow( 'tau veto',    (tau.counts==0) )\n",
    "        cutflow.addRow( 'iso track veto',   (isotrack.counts==0) )\n",
    "        cutflow.addRow( 'MET>250',     (met_pt>250) )\n",
    "                \n",
    "        baseline = copy.deepcopy(cutflow.selection)\n",
    "        \n",
    "        cutflow.addRow( 'N_fatjet>1',      (fatjet.counts>1) )\n",
    "        cutflow.addRow( 'min_dphiFatJetMet4', (min_dphiFatJetMet4>0.5))\n",
    "        cutflow.addRow( 'dphiDiFatJet', (dphiDiFatJet<2.5).all() ) # by using .all() I do not implicitely cut on the number of fat jets\n",
    "        \n",
    "        vetoQCD = copy.deepcopy(cutflow.selection)\n",
    "        \n",
    "        cutflow.addRow( 'N_htag>0',     (htag.counts>0))\n",
    "        cutflow.addRow( 'N_wtag>0',     (wtag.counts>0))\n",
    "        \n",
    "        twotag_selection = copy.deepcopy(cutflow.selection)\n",
    "        \n",
    "        cutflow.addRow( 'minmth>200',   (mth.min()>200) )\n",
    "        cutflow.addRow( 'on-H',     (abs(htag.msoftdrop-125)<25).any())\n",
    "        cutflow.addRow( 'on-W',     (abs(wtag.msoftdrop-80)<30).any())\n",
    "        cutflow.addRow( 'njet veto',     (extrajet.counts<2))\n",
    "        \n",
    "        event_selection = copy.deepcopy(cutflow.selection)\n",
    "        \n",
    "        cutflow.addRow( 'MET>400',     (met_pt>400) )\n",
    "        cutflow.addRow( 'no AK4',        (extrajet.counts==0))\n",
    "\n",
    "        # signal enriched selection of events\n",
    "        signal_selection = cutflow.selection\n",
    "        \n",
    "        # CR selection\n",
    "        CR_selection  = triggers & filters & ((electron.counts+muon.counts)==1)  & (met_pt>250) & (fatjet.counts>1)\n",
    "        CR_selection &= (min_dphiFatJetMet4>0.5) & (dphiDiFatJet<2.5).all() & (htag.counts>0) & (mth.min()>200)\n",
    "        CR_selection &= (abs(htag.msoftdrop-125)<25).any() & (extrajet.counts<2)\n",
    "        \n",
    "        # VR_CR selection\n",
    "        VR_CR_selection  = triggers & filters & ((electron.counts+muon.counts)==1)  & (met_pt>250) & (fatjet.counts>1)\n",
    "        VR_CR_selection &= (min_dphiFatJetMet4>0.5) & (dphiDiFatJet<2.5).all() & (htag.counts>0) #& (mth.min()>200)\n",
    "        VR_CR_selection &= (htag.msoftdrop>180).all()\n",
    "        #VR_CR_selection &= (abs(htag.msoftdrop-125)>30).all()\n",
    "        \n",
    "        # VR_SR selection\n",
    "        VR_SR_selection  = triggers & filters & (electron.counts==0) & (muon.counts==0) & (tau.counts==0) & (isotrack.counts==0) & (met_pt>250) & (fatjet.counts>1)\n",
    "        VR_SR_selection &= (min_dphiFatJetMet4>0.5) & (dphiDiFatJet<2.5).all() & (htag.counts>0) #& (mth.min()>200)\n",
    "        VR_SR_selection &= (htag.msoftdrop>180).all()\n",
    "        #VR_SR_selection &= (abs(htag.msoftdrop-125)>30).all()\n",
    "                    \n",
    "        ### And fill the histograms\n",
    "        output['MET_pt_baseline'].fill(dataset=dataset, pt=met_pt[baseline].flatten(), weight=fullweight[baseline])\n",
    "        output['HT_baseline'].fill(dataset=dataset, ht=ht[baseline].flatten(), weight=fullweight[baseline])\n",
    "        output['mtb_min_baseline'].fill(dataset=dataset, mass=mtb[baseline].min().flatten(), weight=fullweight[baseline])\n",
    "\n",
    "        output['MET_pt'].fill(dataset=dataset, pt=met_pt[vetoQCD].flatten(), weight=fullweight[vetoQCD])\n",
    "        output['HT'].fill(dataset=dataset, ht=ht[vetoQCD].flatten(), weight=fullweight[vetoQCD])\n",
    "        output['mtb_min'].fill(dataset=dataset, mass=mtb[vetoQCD].min().flatten(), weight=fullweight[vetoQCD])\n",
    "        \n",
    "        ## N jet and N b without selections on those\n",
    "        output['N_AK4'].fill(dataset=dataset, multiplicity=jet[baseline].counts, weight=fullweight[baseline])\n",
    "        output['N_AK4_SR'].fill(dataset=dataset, multiplicity=jet[twotag_selection].counts, weight=fullweight[twotag_selection])\n",
    "        output['N_b'].fill(dataset=dataset, multiplicity=btag[baseline].counts, weight=fullweight[baseline])       \n",
    "        output['N_W'].fill(dataset=dataset, multiplicity=htag[baseline].counts, weight=fullweight[baseline])       \n",
    "        output['N_H'].fill(dataset=dataset, multiplicity=wtag[baseline].counts, weight=fullweight[baseline])       \n",
    "        output['N_AK8'].fill(dataset=dataset, multiplicity=fatjet[baseline].counts, weight=fullweight[baseline])       \n",
    "\n",
    "        output['min_dphiJetMet4'].fill(dataset=dataset, delta=min_dphiJetMet4[baseline].flatten(), weight=fullweight[baseline])\n",
    "        output['dphiDiJet'].fill(dataset=dataset, delta=dphiDiJet[(baseline & (jet.counts>1))].min().flatten(), weight=fullweight[(baseline & (jet.counts>1))])\n",
    "\n",
    "        ## Higgs and W pt\n",
    "        output['lead_AK8_pt'].fill(dataset=dataset, pt=fatjet[(baseline & (fatjet.counts>0))].pt.max().flatten(), weight=fullweight[(baseline & (fatjet.counts>0))])\n",
    "        output['dphiDiFatJet'].fill(dataset=dataset, delta=dphiDiFatJet[(baseline & (fatjet.counts>1))].min().flatten(), weight=fullweight[(baseline & (fatjet.counts>1))])\n",
    "        output['min_dphiFatJetMet4'].fill(dataset=dataset, delta=min_dphiFatJetMet4[(baseline & (fatjet.counts>0))].flatten(), weight=fullweight[(baseline & (fatjet.counts>0))])\n",
    "        output['antiQCDcorrelation'].fill(dataset=dataset, delta=dphiDiFatJet[(baseline & (fatjet.counts>1))].flatten(), deltaPhi=min_dphiFatJetMet4[(baseline & (fatjet.counts>1))].flatten(), weight=fullweight[(baseline & (fatjet.counts>1))])\n",
    "        \n",
    "        output['H_mass'].fill(dataset=dataset, mass=lead_htag[twotag_selection].mass.flatten(), weight=fullweight[twotag_selection])\n",
    "        output['H_msoftdrop_incl'].fill(dataset=dataset, mass=lead_htag[(vetoQCD & (htag.counts>0))].msoftdrop.flatten(), weight=fullweight[(vetoQCD & (htag.counts>0))])\n",
    "        output['H_msoftdrop'].fill(dataset=dataset, mass=lead_htag[twotag_selection].msoftdrop.flatten(), weight=fullweight[twotag_selection])\n",
    "        output['H_pt'].fill(dataset=dataset, pt=lead_htag[twotag_selection].pt.flatten(), weight=fullweight[twotag_selection])\n",
    "        output['H_eta'].fill(dataset=dataset, eta=lead_htag[twotag_selection].eta.flatten(), weight=fullweight[twotag_selection])\n",
    "\n",
    "        output['W_mass'].fill(dataset=dataset, mass=lead_wtag[twotag_selection].mass.flatten(), weight=fullweight[twotag_selection])\n",
    "        output['W_msoftdrop'].fill(dataset=dataset, mass=lead_wtag[twotag_selection].msoftdrop.flatten(), weight=fullweight[twotag_selection])\n",
    "        output['W_pt'].fill(dataset=dataset, pt=lead_wtag[twotag_selection].pt.flatten(), weight=fullweight[twotag_selection])\n",
    "        output['W_eta'].fill(dataset=dataset, eta=lead_wtag[twotag_selection].eta.flatten(), weight=fullweight[twotag_selection])\n",
    "\n",
    "        output['WH_deltaPhi'].fill(dataset=dataset, delta=wh_deltaPhi[event_selection].flatten(), weight=fullweight[event_selection])\n",
    "        output['WH_deltaR'].fill(dataset=dataset, delta=wh_deltaR[event_selection].flatten(), weight=fullweight[event_selection])\n",
    "\n",
    "        output['MET_pt_SR'].fill(dataset=dataset, pt=met_pt[event_selection].flatten(), weight=fullweight[event_selection])\n",
    "        output['MET_pt_CR'].fill(dataset=dataset, pt=met_pt[CR_selection].flatten(), weight=fullweight[CR_selection])\n",
    "        output['MET_pt_VR_CR'].fill(dataset=dataset, pt=met_pt[VR_CR_selection].flatten(), weight=fullweight[VR_CR_selection])\n",
    "        output['MET_pt_VR_SR'].fill(dataset=dataset, pt=met_pt[VR_SR_selection].flatten(), weight=fullweight[VR_SR_selection])\n",
    "        output['MET_pt_TT'].fill(dataset=dataset, pt=met_pt[twotag_selection].flatten(), weight=fullweight[twotag_selection])\n",
    "        output['HT_SR'].fill(dataset=dataset, ht=ht[event_selection].flatten(), weight=fullweight[event_selection])\n",
    "        output['mth_min_SR'].fill(dataset=dataset, mass=mth[twotag_selection].min().flatten(), weight=fullweight[twotag_selection])\n",
    "        output['mth_min'].fill(dataset=dataset, mass=mth[(vetoQCD & (htag.counts>0))].min().flatten(), weight=fullweight[(vetoQCD & (htag.counts>0))])\n",
    "        output['mtw_min_SR'].fill(dataset=dataset, mass=mtw[twotag_selection].min().flatten(), weight=fullweight[twotag_selection])\n",
    "\n",
    "        output[\"min_deltaRAK4AK8\"].fill(dataset=dataset, delta=deltaRAK4AK8[(twotag_selection & (jet.counts>0))].min().flatten(), weight=fullweight[(twotag_selection & (jet.counts>0))])\n",
    "        output[\"min_deltaRAK4AK8_SR\"].fill(dataset=dataset, delta=deltaRAK4AK8[(event_selection & (jet.counts>0))].min().flatten(), weight=fullweight[(event_selection & (jet.counts>0))])\n",
    "        \n",
    "        return output\n",
    "\n",
    "    def postprocess(self, accumulator):\n",
    "        return accumulator\n"
   ]
  },
  {
   "cell_type": "code",
   "execution_count": 153,
   "metadata": {},
   "outputs": [],
   "source": [
    "runLocal = True\n",
    "\n",
    "scheduler_address = get_scheduler_address()\n",
    "\n",
    "if not runLocal:\n",
    "    # Get the scheduler from the dask_cluster notebook\n",
    "    from dask.distributed import Client, progress\n",
    "\n",
    "    c = Client(scheduler_address)\n",
    "\n",
    "    ## for dask\n",
    "    exe_args = {\n",
    "        'client': c,\n",
    "        #'savemetrics': True,\n",
    "    }\n",
    "    exe = processor.dask_executor\n",
    "    \n",
    "else:\n",
    "    ## for local\n",
    "    exe_args = {\n",
    "        'workers': 4,\n",
    "        'function_args': {'flatten': False}\n",
    "    }\n",
    "    exe = processor.futures_executor\n",
    "\n",
    "if not runLocal:\n",
    "    print(c)"
   ]
  },
  {
   "cell_type": "code",
   "execution_count": 154,
   "metadata": {
    "scrolled": true
   },
   "outputs": [
    {
     "data": {
      "application/vnd.jupyter.widget-view+json": {
       "model_id": "a3429f4ba9c449f8a0dae4e0a2262f89",
       "version_major": 2,
       "version_minor": 0
      },
      "text/plain": [
       "HBox(children=(HTML(value='Processing'), FloatProgress(value=0.0, max=1009.0), HTML(value='')))"
      ]
     },
     "metadata": {},
     "output_type": "display_data"
    },
    {
     "name": "stderr",
     "output_type": "stream",
     "text": [
      "/home/users/dspitzba/miniconda3/envs/daskanalysisenv/lib/python3.8/site-packages/awkward/array/jagged.py:1043: RuntimeWarning: invalid value encountered in arccos\n",
      "  result = getattr(ufunc, method)(*inputs, **kwargs)\n",
      "/home/users/dspitzba/miniconda3/envs/daskanalysisenv/lib/python3.8/site-packages/awkward/array/jagged.py:1043: RuntimeWarning: invalid value encountered in arccos\n",
      "  result = getattr(ufunc, method)(*inputs, **kwargs)\n",
      "/home/users/dspitzba/miniconda3/envs/daskanalysisenv/lib/python3.8/site-packages/awkward/array/jagged.py:1043: RuntimeWarning: invalid value encountered in arccos\n",
      "  result = getattr(ufunc, method)(*inputs, **kwargs)\n",
      "/home/users/dspitzba/miniconda3/envs/daskanalysisenv/lib/python3.8/site-packages/awkward/array/jagged.py:1043: RuntimeWarning: invalid value encountered in arccos\n",
      "  result = getattr(ufunc, method)(*inputs, **kwargs)\n",
      "/home/users/dspitzba/miniconda3/envs/daskanalysisenv/lib/python3.8/site-packages/awkward/array/jagged.py:1043: RuntimeWarning: invalid value encountered in arccos\n",
      "  result = getattr(ufunc, method)(*inputs, **kwargs)\n",
      "/home/users/dspitzba/miniconda3/envs/daskanalysisenv/lib/python3.8/site-packages/awkward/array/jagged.py:1043: RuntimeWarning: invalid value encountered in arccos\n",
      "  result = getattr(ufunc, method)(*inputs, **kwargs)\n",
      "/home/users/dspitzba/miniconda3/envs/daskanalysisenv/lib/python3.8/site-packages/awkward/array/jagged.py:1043: RuntimeWarning: invalid value encountered in arccos\n",
      "  result = getattr(ufunc, method)(*inputs, **kwargs)\n",
      "/home/users/dspitzba/miniconda3/envs/daskanalysisenv/lib/python3.8/site-packages/awkward/array/jagged.py:1043: RuntimeWarning: invalid value encountered in arccos\n",
      "  result = getattr(ufunc, method)(*inputs, **kwargs)\n",
      "/home/users/dspitzba/miniconda3/envs/daskanalysisenv/lib/python3.8/site-packages/awkward/array/jagged.py:1043: RuntimeWarning: invalid value encountered in arccos\n",
      "  result = getattr(ufunc, method)(*inputs, **kwargs)\n",
      "/home/users/dspitzba/miniconda3/envs/daskanalysisenv/lib/python3.8/site-packages/awkward/array/jagged.py:1043: RuntimeWarning: invalid value encountered in arccos\n",
      "  result = getattr(ufunc, method)(*inputs, **kwargs)\n",
      "/home/users/dspitzba/miniconda3/envs/daskanalysisenv/lib/python3.8/site-packages/awkward/array/jagged.py:1043: RuntimeWarning: invalid value encountered in arccos\n",
      "  result = getattr(ufunc, method)(*inputs, **kwargs)\n",
      "/home/users/dspitzba/miniconda3/envs/daskanalysisenv/lib/python3.8/site-packages/awkward/array/jagged.py:1043: RuntimeWarning: invalid value encountered in arccos\n",
      "  result = getattr(ufunc, method)(*inputs, **kwargs)\n",
      "/home/users/dspitzba/miniconda3/envs/daskanalysisenv/lib/python3.8/site-packages/awkward/array/jagged.py:1043: RuntimeWarning: invalid value encountered in arccos\n",
      "  result = getattr(ufunc, method)(*inputs, **kwargs)\n",
      "/home/users/dspitzba/miniconda3/envs/daskanalysisenv/lib/python3.8/site-packages/awkward/array/jagged.py:1043: RuntimeWarning: invalid value encountered in arccos\n",
      "  result = getattr(ufunc, method)(*inputs, **kwargs)\n",
      "/home/users/dspitzba/miniconda3/envs/daskanalysisenv/lib/python3.8/site-packages/awkward/array/jagged.py:1043: RuntimeWarning: invalid value encountered in arccos\n",
      "  result = getattr(ufunc, method)(*inputs, **kwargs)\n",
      "/home/users/dspitzba/miniconda3/envs/daskanalysisenv/lib/python3.8/site-packages/awkward/array/jagged.py:1043: RuntimeWarning: invalid value encountered in arccos\n",
      "  result = getattr(ufunc, method)(*inputs, **kwargs)\n"
     ]
    },
    {
     "name": "stdout",
     "output_type": "stream",
     "text": [
      "\n"
     ]
    }
   ],
   "source": [
    "overwrite = True\n",
    "small = False\n",
    "\n",
    "from Tools.WH_samples import * #fileset_2016, fileset_2016_small\n",
    "\n",
    "if year == 2016:\n",
    "    fileset_year = fileset_2016\n",
    "    fileset_year_small = fileset_2016_small\n",
    "elif year == 2017:\n",
    "    fileset_year = fileset_2017\n",
    "    fileset_year_small = fileset_2017_small\n",
    "elif year == 2018:\n",
    "    fileset_year = fileset_2018\n",
    "    fileset_year_small = fileset_2018_small\n",
    "\n",
    "\n",
    "fileset_WH_merge   = {   '1000_1_scan': glob.glob('/hadoop/cms/store/user/dspitzba/WH_hadronic/v0.2.4/Autumn18_TChiWH_1000_1.root'),\n",
    "                'LL': fileset_year['WJets'] + fileset_year['TTJets'] + fileset_year['ST'] + fileset_year['WW'] + fileset_year['TTW'],\n",
    "                'QCD': fileset_year['QCD'],\n",
    "                'ZNuNu': fileset_year['ZNuNu'] + fileset_year['TTZ'] + fileset_year['VV'],\n",
    "                'Data': fileset_year['MET'],\n",
    "                }\n",
    "\n",
    "# load the config and the cache\n",
    "cfg = loadConfig()\n",
    "\n",
    "cacheName = 'WH_%s_small'%year if small else 'WH_%s'%year\n",
    "\n",
    "# histograms\n",
    "histograms = []\n",
    "histograms += ['N_AK4']\n",
    "\n",
    "# initialize cache\n",
    "cache = dir_archive(os.path.join(os.path.expandvars(cfg['caches']['base']), cacheName), serialized=True)\n",
    "if not overwrite:\n",
    "    cache.load()\n",
    "\n",
    "if cfg == cache.get('cfg') and histograms == cache.get('histograms') and cache.get('simple_output'):\n",
    "    output = cache.get('simple_output')\n",
    "\n",
    "else:\n",
    "    # Run the processor\n",
    "    if small:\n",
    "        fileset = {\n",
    "                    #'mC750_l1': glob.glob('/hadoop/cms/store/user/ksalyer/allHadTest/'+tag+'/WH_had_750_1_nanoAOD/*.root'),\n",
    "                    #'750_1_scan': glob.glob('/hadoop/cms/store/user/dspitzba/WHhadronic/signal/GenModel_TChiWH_750_1.root'),\n",
    "                    '1000_1_scan': glob.glob('/hadoop/cms/store/user/dspitzba/WH_hadronic/v0.2.4/Autumn18_TChiWH_1000_1.root'),\n",
    "                    'LL': fileset_WH_merge['LL'][:2],\n",
    "                    'Data': fileset_WH_merge['Data'][:2]\n",
    "        }\n",
    "        exe_args['workers'] = 4\n",
    "    else:\n",
    "        fileset = fileset_WH_merge\n",
    "        exe_args['workers'] = 16\n",
    "    \n",
    "        \n",
    "    output = processor.run_uproot_job(fileset,\n",
    "                                      treename='Events',\n",
    "                                      processor_instance=analysisProcessor(),\n",
    "                                      executor=exe,\n",
    "                                      executor_args=exe_args,\n",
    "                                      #chunksize=250000,\n",
    "                                      chunksize=100000,\n",
    "                                     )\n",
    "    cache['fileset']        = fileset\n",
    "    cache['cfg']            = cfg\n",
    "    cache['histograms']     = histograms\n",
    "    cache['simple_output']  = output\n",
    "    cache.dump()"
   ]
  },
  {
   "cell_type": "code",
   "execution_count": 104,
   "metadata": {},
   "outputs": [
    {
     "data": {
      "text/html": [
       "<div>\n",
       "<style scoped>\n",
       "    .dataframe tbody tr th:only-of-type {\n",
       "        vertical-align: middle;\n",
       "    }\n",
       "\n",
       "    .dataframe tbody tr th {\n",
       "        vertical-align: top;\n",
       "    }\n",
       "\n",
       "    .dataframe thead th {\n",
       "        text-align: right;\n",
       "    }\n",
       "</style>\n",
       "<table border=\"1\" class=\"dataframe\">\n",
       "  <thead>\n",
       "    <tr style=\"text-align: right;\">\n",
       "      <th></th>\n",
       "      <th>1000_1_scan</th>\n",
       "      <th>LL</th>\n",
       "      <th>QCD</th>\n",
       "      <th>ZNuNu</th>\n",
       "      <th>Data</th>\n",
       "      <th>total</th>\n",
       "      <th>S/B</th>\n",
       "    </tr>\n",
       "  </thead>\n",
       "  <tbody>\n",
       "    <tr>\n",
       "      <th>entry</th>\n",
       "      <td>70.9 +/- 0.3</td>\n",
       "      <td>11200000.0 +/- 0.0</td>\n",
       "      <td>13200000.0 +/- 100000.0</td>\n",
       "      <td>1440000.0 +/- 0.0</td>\n",
       "      <td>14000000.0 +/- 0.0</td>\n",
       "      <td>25900000.0</td>\n",
       "      <td>0.000</td>\n",
       "    </tr>\n",
       "    <tr>\n",
       "      <th>blinded</th>\n",
       "      <td>70.9 +/- 0.3</td>\n",
       "      <td>11200000.0 +/- 0.0</td>\n",
       "      <td>13200000.0 +/- 100000.0</td>\n",
       "      <td>1440000.0 +/- 0.0</td>\n",
       "      <td>932000.0 +/- 1000.0</td>\n",
       "      <td>25900000.0</td>\n",
       "      <td>0.000</td>\n",
       "    </tr>\n",
       "    <tr>\n",
       "      <th>skim</th>\n",
       "      <td>68.8 +/- 0.3</td>\n",
       "      <td>2320000.0 +/- 0.0</td>\n",
       "      <td>1030000.0 +/- 10000.0</td>\n",
       "      <td>865000.0 +/- 0.0</td>\n",
       "      <td>88500.0 +/- 300.0</td>\n",
       "      <td>4220000.0</td>\n",
       "      <td>0.000</td>\n",
       "    </tr>\n",
       "    <tr>\n",
       "      <th>electron veto</th>\n",
       "      <td>59.0 +/- 0.3</td>\n",
       "      <td>1750000.0 +/- 0.0</td>\n",
       "      <td>1030000.0 +/- 10000.0</td>\n",
       "      <td>860000.0 +/- 0.0</td>\n",
       "      <td>33200.0 +/- 200.0</td>\n",
       "      <td>3640000.0</td>\n",
       "      <td>0.000</td>\n",
       "    </tr>\n",
       "    <tr>\n",
       "      <th>muon veto</th>\n",
       "      <td>48.3 +/- 0.2</td>\n",
       "      <td>1110000.0 +/- 0.0</td>\n",
       "      <td>955000.0 +/- 5000.0</td>\n",
       "      <td>855000.0 +/- 0.0</td>\n",
       "      <td>0.0 +/- 0.0</td>\n",
       "      <td>2920000.0</td>\n",
       "      <td>0.000</td>\n",
       "    </tr>\n",
       "    <tr>\n",
       "      <th>tau veto</th>\n",
       "      <td>44.6 +/- 0.2</td>\n",
       "      <td>891000.0 +/- 2000.0</td>\n",
       "      <td>943000.0 +/- 5000.0</td>\n",
       "      <td>845000.0 +/- 0.0</td>\n",
       "      <td>0.0 +/- 0.0</td>\n",
       "      <td>2680000.0</td>\n",
       "      <td>0.000</td>\n",
       "    </tr>\n",
       "    <tr>\n",
       "      <th>iso track veto</th>\n",
       "      <td>42.9 +/- 0.2</td>\n",
       "      <td>822000.0 +/- 2000.0</td>\n",
       "      <td>912000.0 +/- 5000.0</td>\n",
       "      <td>822000.0 +/- 0.0</td>\n",
       "      <td>0.0 +/- 0.0</td>\n",
       "      <td>2560000.0</td>\n",
       "      <td>0.000</td>\n",
       "    </tr>\n",
       "    <tr>\n",
       "      <th>MET&gt;250</th>\n",
       "      <td>40.8 +/- 0.2</td>\n",
       "      <td>316000.0 +/- 1000.0</td>\n",
       "      <td>239000.0 +/- 2000.0</td>\n",
       "      <td>385000.0 +/- 0.0</td>\n",
       "      <td>0.0 +/- 0.0</td>\n",
       "      <td>939000.0</td>\n",
       "      <td>0.000</td>\n",
       "    </tr>\n",
       "    <tr>\n",
       "      <th>N_fatjet&gt;1</th>\n",
       "      <td>28.1 +/- 0.2</td>\n",
       "      <td>53200.0 +/- 400.0</td>\n",
       "      <td>154000.0 +/- 1000.0</td>\n",
       "      <td>45200.0 +/- 100.0</td>\n",
       "      <td>0.0 +/- 0.0</td>\n",
       "      <td>252000.0</td>\n",
       "      <td>0.000</td>\n",
       "    </tr>\n",
       "    <tr>\n",
       "      <th>min_dphiFatJetMet4</th>\n",
       "      <td>26.1 +/- 0.2</td>\n",
       "      <td>28600.0 +/- 300.0</td>\n",
       "      <td>7110.0 +/- 210.0</td>\n",
       "      <td>36100.0 +/- 0.0</td>\n",
       "      <td>0.0 +/- 0.0</td>\n",
       "      <td>71900.0</td>\n",
       "      <td>0.000</td>\n",
       "    </tr>\n",
       "    <tr>\n",
       "      <th>dphiDiFatJet</th>\n",
       "      <td>21.1 +/- 0.2</td>\n",
       "      <td>19600.0 +/- 300.0</td>\n",
       "      <td>5740.0 +/- 180.0</td>\n",
       "      <td>25600.0 +/- 0.0</td>\n",
       "      <td>0.0 +/- 0.0</td>\n",
       "      <td>50900.0</td>\n",
       "      <td>0.000</td>\n",
       "    </tr>\n",
       "    <tr>\n",
       "      <th>N_htag&gt;0</th>\n",
       "      <td>8.46 +/- 0.1</td>\n",
       "      <td>1090.0 +/- 30.0</td>\n",
       "      <td>241.0 +/- 37.0</td>\n",
       "      <td>531.0 +/- 6.0</td>\n",
       "      <td>0.0 +/- 0.0</td>\n",
       "      <td>1860.0</td>\n",
       "      <td>0.005</td>\n",
       "    </tr>\n",
       "    <tr>\n",
       "      <th>N_wtag&gt;0</th>\n",
       "      <td>3.69 +/- 0.06</td>\n",
       "      <td>56.1 +/- 3.2</td>\n",
       "      <td>0.81 +/- 0.62</td>\n",
       "      <td>13.9 +/- 1.3</td>\n",
       "      <td>0.0 +/- 0.0</td>\n",
       "      <td>70.7</td>\n",
       "      <td>0.052</td>\n",
       "    </tr>\n",
       "    <tr>\n",
       "      <th>minmth&gt;200</th>\n",
       "      <td>3.69 +/- 0.06</td>\n",
       "      <td>44.7 +/- 2.9</td>\n",
       "      <td>0.23 +/- 0.23</td>\n",
       "      <td>13.9 +/- 1.3</td>\n",
       "      <td>0.0 +/- 0.0</td>\n",
       "      <td>58.7</td>\n",
       "      <td>0.063</td>\n",
       "    </tr>\n",
       "    <tr>\n",
       "      <th>on-H</th>\n",
       "      <td>2.45 +/- 0.05</td>\n",
       "      <td>5.23 +/- 1.02</td>\n",
       "      <td>0.0 +/- 0.0</td>\n",
       "      <td>1.24 +/- 0.22</td>\n",
       "      <td>0.0 +/- 0.0</td>\n",
       "      <td>6.47</td>\n",
       "      <td>0.379</td>\n",
       "    </tr>\n",
       "    <tr>\n",
       "      <th>on-W</th>\n",
       "      <td>2.35 +/- 0.05</td>\n",
       "      <td>4.25 +/- 0.93</td>\n",
       "      <td>0.0 +/- 0.0</td>\n",
       "      <td>1.17 +/- 0.22</td>\n",
       "      <td>0.0 +/- 0.0</td>\n",
       "      <td>5.42</td>\n",
       "      <td>0.433</td>\n",
       "    </tr>\n",
       "    <tr>\n",
       "      <th>njet veto</th>\n",
       "      <td>2.1 +/- 0.05</td>\n",
       "      <td>1.32 +/- 0.48</td>\n",
       "      <td>0.0 +/- 0.0</td>\n",
       "      <td>0.98 +/- 0.22</td>\n",
       "      <td>0.0 +/- 0.0</td>\n",
       "      <td>2.3</td>\n",
       "      <td>0.912</td>\n",
       "    </tr>\n",
       "    <tr>\n",
       "      <th>MET&gt;400</th>\n",
       "      <td>1.95 +/- 0.05</td>\n",
       "      <td>0.47 +/- 0.29</td>\n",
       "      <td>0.0 +/- 0.0</td>\n",
       "      <td>0.52 +/- 0.13</td>\n",
       "      <td>0.0 +/- 0.0</td>\n",
       "      <td>0.98</td>\n",
       "      <td>1.986</td>\n",
       "    </tr>\n",
       "    <tr>\n",
       "      <th>no AK4</th>\n",
       "      <td>1.32 +/- 0.04</td>\n",
       "      <td>0.02 +/- 0.01</td>\n",
       "      <td>0.0 +/- 0.0</td>\n",
       "      <td>0.17 +/- 0.07</td>\n",
       "      <td>0.0 +/- 0.0</td>\n",
       "      <td>0.19</td>\n",
       "      <td>6.934</td>\n",
       "    </tr>\n",
       "  </tbody>\n",
       "</table>\n",
       "</div>"
      ],
      "text/plain": [
       "                      1000_1_scan                   LL  \\\n",
       "entry                70.9 +/- 0.3   11200000.0 +/- 0.0   \n",
       "blinded              70.9 +/- 0.3   11200000.0 +/- 0.0   \n",
       "skim                 68.8 +/- 0.3    2320000.0 +/- 0.0   \n",
       "electron veto        59.0 +/- 0.3    1750000.0 +/- 0.0   \n",
       "muon veto            48.3 +/- 0.2    1110000.0 +/- 0.0   \n",
       "tau veto             44.6 +/- 0.2  891000.0 +/- 2000.0   \n",
       "iso track veto       42.9 +/- 0.2  822000.0 +/- 2000.0   \n",
       "MET>250              40.8 +/- 0.2  316000.0 +/- 1000.0   \n",
       "N_fatjet>1           28.1 +/- 0.2    53200.0 +/- 400.0   \n",
       "min_dphiFatJetMet4   26.1 +/- 0.2    28600.0 +/- 300.0   \n",
       "dphiDiFatJet         21.1 +/- 0.2    19600.0 +/- 300.0   \n",
       "N_htag>0             8.46 +/- 0.1      1090.0 +/- 30.0   \n",
       "N_wtag>0            3.69 +/- 0.06         56.1 +/- 3.2   \n",
       "minmth>200          3.69 +/- 0.06         44.7 +/- 2.9   \n",
       "on-H                2.45 +/- 0.05        5.23 +/- 1.02   \n",
       "on-W                2.35 +/- 0.05        4.25 +/- 0.93   \n",
       "njet veto            2.1 +/- 0.05        1.32 +/- 0.48   \n",
       "MET>400             1.95 +/- 0.05        0.47 +/- 0.29   \n",
       "no AK4              1.32 +/- 0.04        0.02 +/- 0.01   \n",
       "\n",
       "                                        QCD              ZNuNu  \\\n",
       "entry               13200000.0 +/- 100000.0  1440000.0 +/- 0.0   \n",
       "blinded             13200000.0 +/- 100000.0  1440000.0 +/- 0.0   \n",
       "skim                  1030000.0 +/- 10000.0   865000.0 +/- 0.0   \n",
       "electron veto         1030000.0 +/- 10000.0   860000.0 +/- 0.0   \n",
       "muon veto               955000.0 +/- 5000.0   855000.0 +/- 0.0   \n",
       "tau veto                943000.0 +/- 5000.0   845000.0 +/- 0.0   \n",
       "iso track veto          912000.0 +/- 5000.0   822000.0 +/- 0.0   \n",
       "MET>250                 239000.0 +/- 2000.0   385000.0 +/- 0.0   \n",
       "N_fatjet>1              154000.0 +/- 1000.0  45200.0 +/- 100.0   \n",
       "min_dphiFatJetMet4         7110.0 +/- 210.0    36100.0 +/- 0.0   \n",
       "dphiDiFatJet               5740.0 +/- 180.0    25600.0 +/- 0.0   \n",
       "N_htag>0                     241.0 +/- 37.0      531.0 +/- 6.0   \n",
       "N_wtag>0                      0.81 +/- 0.62       13.9 +/- 1.3   \n",
       "minmth>200                    0.23 +/- 0.23       13.9 +/- 1.3   \n",
       "on-H                            0.0 +/- 0.0      1.24 +/- 0.22   \n",
       "on-W                            0.0 +/- 0.0      1.17 +/- 0.22   \n",
       "njet veto                       0.0 +/- 0.0      0.98 +/- 0.22   \n",
       "MET>400                         0.0 +/- 0.0      0.52 +/- 0.13   \n",
       "no AK4                          0.0 +/- 0.0      0.17 +/- 0.07   \n",
       "\n",
       "                                   Data       total    S/B  \n",
       "entry                14000000.0 +/- 0.0  25900000.0  0.000  \n",
       "blinded             932000.0 +/- 1000.0  25900000.0  0.000  \n",
       "skim                  88500.0 +/- 300.0   4220000.0  0.000  \n",
       "electron veto         33200.0 +/- 200.0   3640000.0  0.000  \n",
       "muon veto                   0.0 +/- 0.0   2920000.0  0.000  \n",
       "tau veto                    0.0 +/- 0.0   2680000.0  0.000  \n",
       "iso track veto              0.0 +/- 0.0   2560000.0  0.000  \n",
       "MET>250                     0.0 +/- 0.0    939000.0  0.000  \n",
       "N_fatjet>1                  0.0 +/- 0.0    252000.0  0.000  \n",
       "min_dphiFatJetMet4          0.0 +/- 0.0     71900.0  0.000  \n",
       "dphiDiFatJet                0.0 +/- 0.0     50900.0  0.000  \n",
       "N_htag>0                    0.0 +/- 0.0      1860.0  0.005  \n",
       "N_wtag>0                    0.0 +/- 0.0        70.7  0.052  \n",
       "minmth>200                  0.0 +/- 0.0        58.7  0.063  \n",
       "on-H                        0.0 +/- 0.0        6.47  0.379  \n",
       "on-W                        0.0 +/- 0.0        5.42  0.433  \n",
       "njet veto                   0.0 +/- 0.0         2.3  0.912  \n",
       "MET>400                     0.0 +/- 0.0        0.98  1.986  \n",
       "no AK4                      0.0 +/- 0.0        0.19  6.934  "
      ]
     },
     "execution_count": 104,
     "metadata": {},
     "output_type": "execute_result"
    }
   ],
   "source": [
    "# Cutflow\n",
    "from Tools.helpers import getCutFlowTable\n",
    "\n",
    "#processes = ['mC750_l1', 'WJets', 'QCD', 'TTJets', 'ZNuNu', 'ST', 'ttW/ttZ', 'WW/WZ/ZZ']\n",
    "processes = ['1000_1_scan', 'LL', 'QCD', 'ZNuNu', 'Data']\n",
    "#processes = ['mC750_l1', 'LL', 'QCD', 'ZNuNu']\n",
    "lines     = ['entry']\n",
    "#lines    += ['skim', 'electron veto', 'muon veto', 'tau veto', 'iso track veto',  'MET>250', 'njet2', 'jetveto', 'nbtag', 'minmtb', 'min_dphiJetMet4', 'dphiDiJet', 'dphiDiFatJet',  'HT>400', 'N_fatjet>0', 'N_htag>0',  'N_fatjet>1', 'N_vlwtag>0', 'N_lwtag>0', 'N_wtag>0', 'on-H', 'on-W', 'N_htag>0 hard',  'MET>400']\n",
    "#lines    += ['skim', 'electron veto', 'muon veto', 'tau veto', 'iso track veto',  'MET>250', 'N_fatjet>1', 'min_dphiJetMet4', 'min_dphiFatJetMet4', 'dphiDiJet', 'dphiDiFatJet',  'N_htag>0',  'N_vlwtag>0', 'N_lwtag>0', 'N_wtag>0', 'on-H', 'on-W', 'N_htag>0 hard',  'MET>400']\n",
    "lines    += ['blinded', 'skim', 'electron veto', 'muon veto', 'tau veto', 'iso track veto',  'MET>250', 'N_fatjet>1', 'min_dphiFatJetMet4', 'dphiDiFatJet', 'N_htag>0', 'N_wtag>0', 'minmth>200', 'on-H', 'on-W', 'njet veto',  'MET>400', 'no AK4']\n",
    "\n",
    "\n",
    "\n",
    "df        = getCutFlowTable(output, processes=processes, lines=lines, significantFigures=3, total=['LL', 'QCD', 'ZNuNu'], signal='1000_1_scan')\n",
    "df"
   ]
  },
  {
   "cell_type": "code",
   "execution_count": 171,
   "metadata": {},
   "outputs": [
    {
     "data": {
      "text/plain": [
       "{('Data',): 0.0,\n",
       " ('ZNuNu',): 0.9763717439632273,\n",
       " ('QCD',): 0.0,\n",
       " ('LL',): 1.3197622671525098,\n",
       " ('1000_1_scan',): 1.9220575259036652}"
      ]
     },
     "execution_count": 171,
     "metadata": {},
     "output_type": "execute_result"
    }
   ],
   "source": [
    "# check that we are still blinded\n",
    "output['MET_pt_SR'].sum('pt').values(overflow='over')"
   ]
  },
  {
   "cell_type": "code",
   "execution_count": 85,
   "metadata": {},
   "outputs": [
    {
     "data": {
      "text/plain": [
       "{('Data',): 46.0,\n",
       " ('ZNuNu',): 0.5291172520384134,\n",
       " ('QCD',): 0.0,\n",
       " ('LL',): 64.10859921341601,\n",
       " ('1000_1_scan',): 0.019006350509698677}"
      ]
     },
     "execution_count": 85,
     "metadata": {},
     "output_type": "execute_result"
    }
   ],
   "source": [
    "output['MET_pt_VR_CR'].sum('pt').values(overflow='over')"
   ]
  },
  {
   "cell_type": "code",
   "execution_count": 214,
   "metadata": {},
   "outputs": [
    {
     "data": {
      "image/png": "[encoded data removed]",
      "text/plain": [
       "<Figure size 720x720 with 2 Axes>"
      ]
     },
     "metadata": {
      "needs_background": "light"
     },
     "output_type": "display_data"
    }
   ],
   "source": [
    "\n",
    "histogram = output['antiQCDcorrelation']['ZNuNu'].sum('dataset')\n",
    "\n",
    "histogram = histogram.rebin('delta', hist.Bin('delta', r'$\\Delta \\Phi (AK8 jets)$', 16, 0, 3.2))\n",
    "histogram = histogram.rebin('deltaPhi', hist.Bin('deltaPhi', r'min $\\Delta \\Phi (AK8, MET)$', 16, 0, 3.2))\n",
    "\n",
    "import mplhep\n",
    "plt.style.use(mplhep.style.CMS)\n",
    "\n",
    "#figure=plt.figure(1)\n",
    "ax = hist.plot2d(histogram, xaxis='delta', density=True, patch_opts={'cmap': plt.cm.Reds})\n",
    "\n",
    "\n",
    "plt.show()"
   ]
  },
  {
   "cell_type": "code",
   "execution_count": 46,
   "metadata": {},
   "outputs": [
    {
     "data": {
      "text/html": [
       "<div>\n",
       "<style scoped>\n",
       "    .dataframe tbody tr th:only-of-type {\n",
       "        vertical-align: middle;\n",
       "    }\n",
       "\n",
       "    .dataframe tbody tr th {\n",
       "        vertical-align: top;\n",
       "    }\n",
       "\n",
       "    .dataframe thead th {\n",
       "        text-align: right;\n",
       "    }\n",
       "</style>\n",
       "<table border=\"1\" class=\"dataframe\">\n",
       "  <thead>\n",
       "    <tr style=\"text-align: right;\">\n",
       "      <th></th>\n",
       "      <th>1000_1_scan</th>\n",
       "      <th>LL</th>\n",
       "      <th>QCD</th>\n",
       "      <th>ZNuNu</th>\n",
       "    </tr>\n",
       "  </thead>\n",
       "  <tbody>\n",
       "    <tr>\n",
       "      <th>entry</th>\n",
       "      <td>1.000</td>\n",
       "      <td>1.000</td>\n",
       "      <td>1.000</td>\n",
       "      <td>1.000</td>\n",
       "    </tr>\n",
       "    <tr>\n",
       "      <th>skim</th>\n",
       "      <td>0.972</td>\n",
       "      <td>0.208</td>\n",
       "      <td>0.117</td>\n",
       "      <td>0.601</td>\n",
       "    </tr>\n",
       "    <tr>\n",
       "      <th>electron veto</th>\n",
       "      <td>0.857</td>\n",
       "      <td>0.757</td>\n",
       "      <td>0.996</td>\n",
       "      <td>0.994</td>\n",
       "    </tr>\n",
       "    <tr>\n",
       "      <th>muon veto</th>\n",
       "      <td>0.819</td>\n",
       "      <td>0.632</td>\n",
       "      <td>0.833</td>\n",
       "      <td>0.994</td>\n",
       "    </tr>\n",
       "    <tr>\n",
       "      <th>tau veto</th>\n",
       "      <td>0.922</td>\n",
       "      <td>0.802</td>\n",
       "      <td>0.988</td>\n",
       "      <td>0.988</td>\n",
       "    </tr>\n",
       "    <tr>\n",
       "      <th>iso track veto</th>\n",
       "      <td>0.963</td>\n",
       "      <td>0.921</td>\n",
       "      <td>0.970</td>\n",
       "      <td>0.973</td>\n",
       "    </tr>\n",
       "    <tr>\n",
       "      <th>MET&gt;250</th>\n",
       "      <td>0.951</td>\n",
       "      <td>0.385</td>\n",
       "      <td>0.297</td>\n",
       "      <td>0.468</td>\n",
       "    </tr>\n",
       "    <tr>\n",
       "      <th>N_fatjet&gt;1</th>\n",
       "      <td>0.688</td>\n",
       "      <td>0.170</td>\n",
       "      <td>0.651</td>\n",
       "      <td>0.118</td>\n",
       "    </tr>\n",
       "    <tr>\n",
       "      <th>min_dphiFatJetMet4</th>\n",
       "      <td>0.930</td>\n",
       "      <td>0.535</td>\n",
       "      <td>0.044</td>\n",
       "      <td>0.798</td>\n",
       "    </tr>\n",
       "    <tr>\n",
       "      <th>dphiDiFatJet</th>\n",
       "      <td>0.808</td>\n",
       "      <td>0.684</td>\n",
       "      <td>0.821</td>\n",
       "      <td>0.707</td>\n",
       "    </tr>\n",
       "    <tr>\n",
       "      <th>N_htag&gt;0</th>\n",
       "      <td>0.401</td>\n",
       "      <td>0.056</td>\n",
       "      <td>0.037</td>\n",
       "      <td>0.021</td>\n",
       "    </tr>\n",
       "    <tr>\n",
       "      <th>N_wtag&gt;0</th>\n",
       "      <td>0.436</td>\n",
       "      <td>0.051</td>\n",
       "      <td>0.004</td>\n",
       "      <td>0.026</td>\n",
       "    </tr>\n",
       "    <tr>\n",
       "      <th>minmth&gt;200</th>\n",
       "      <td>1.000</td>\n",
       "      <td>0.797</td>\n",
       "      <td>0.544</td>\n",
       "      <td>0.998</td>\n",
       "    </tr>\n",
       "    <tr>\n",
       "      <th>on-H</th>\n",
       "      <td>0.665</td>\n",
       "      <td>0.117</td>\n",
       "      <td>0.000</td>\n",
       "      <td>0.090</td>\n",
       "    </tr>\n",
       "    <tr>\n",
       "      <th>on-W</th>\n",
       "      <td>0.958</td>\n",
       "      <td>0.813</td>\n",
       "      <td>1.000</td>\n",
       "      <td>0.944</td>\n",
       "    </tr>\n",
       "    <tr>\n",
       "      <th>njet veto</th>\n",
       "      <td>0.892</td>\n",
       "      <td>0.311</td>\n",
       "      <td>1.000</td>\n",
       "      <td>0.830</td>\n",
       "    </tr>\n",
       "    <tr>\n",
       "      <th>MET&gt;400</th>\n",
       "      <td>0.931</td>\n",
       "      <td>0.352</td>\n",
       "      <td>1.000</td>\n",
       "      <td>0.530</td>\n",
       "    </tr>\n",
       "    <tr>\n",
       "      <th>no AK4</th>\n",
       "      <td>0.000</td>\n",
       "      <td>0.000</td>\n",
       "      <td>1.000</td>\n",
       "      <td>0.000</td>\n",
       "    </tr>\n",
       "  </tbody>\n",
       "</table>\n",
       "</div>"
      ],
      "text/plain": [
       "                    1000_1_scan     LL    QCD  ZNuNu\n",
       "entry                     1.000  1.000  1.000  1.000\n",
       "skim                      0.972  0.208  0.117  0.601\n",
       "electron veto             0.857  0.757  0.996  0.994\n",
       "muon veto                 0.819  0.632  0.833  0.994\n",
       "tau veto                  0.922  0.802  0.988  0.988\n",
       "iso track veto            0.963  0.921  0.970  0.973\n",
       "MET>250                   0.951  0.385  0.297  0.468\n",
       "N_fatjet>1                0.688  0.170  0.651  0.118\n",
       "min_dphiFatJetMet4        0.930  0.535  0.044  0.798\n",
       "dphiDiFatJet              0.808  0.684  0.821  0.707\n",
       "N_htag>0                  0.401  0.056  0.037  0.021\n",
       "N_wtag>0                  0.436  0.051  0.004  0.026\n",
       "minmth>200                1.000  0.797  0.544  0.998\n",
       "on-H                      0.665  0.117  0.000  0.090\n",
       "on-W                      0.958  0.813  1.000  0.944\n",
       "njet veto                 0.892  0.311  1.000  0.830\n",
       "MET>400                   0.931  0.352  1.000  0.530\n",
       "no AK4                    0.000  0.000  1.000  0.000"
      ]
     },
     "execution_count": 46,
     "metadata": {},
     "output_type": "execute_result"
    }
   ],
   "source": [
    "# Efficiencies\n",
    "df = getCutFlowTable(output, processes=processes, lines=lines, significantFigures=3, absolute=False)\n",
    "df"
   ]
  },
  {
   "cell_type": "markdown",
   "metadata": {},
   "source": [
    "## Backgrounds\n",
    "\n",
    "We do have three main background categories:\n",
    "- Lost lepton (everything W related: W+jets, single top, tt, ttW, WW)\n",
    "  - This will be the main background\n",
    "  - M_T(b, MET), deltaPhi/deltaR between b candidates against top quark backgrounds \n",
    "- Z->nunu (everything Z related: Z->nunu, ttZ, WZ)\n",
    "  - Hard to tackle. Let's think about something\n",
    "- QCD <-- should be gone with delta Phi cuts and large MET\n"
   ]
  },
  {
   "cell_type": "code",
   "execution_count": 182,
   "metadata": {
    "scrolled": false
   },
   "outputs": [
    {
     "name": "stderr",
     "output_type": "stream",
     "text": [
      "/home/users/dspitzba/miniconda3/envs/daskanalysisenv/lib/python3.8/site-packages/coffea/hist/plot.py:44: RuntimeWarning: All sumw are zero!  Cannot compute meaningful error bars\n",
      "  warnings.warn(\"All sumw are zero!  Cannot compute meaningful error bars\", RuntimeWarning)\n"
     ]
    },
    {
     "data": {
      "image/png": "[encoded data removed]",
      "text/plain": [
       "<Figure size 432x288 with 1 Axes>"
      ]
     },
     "metadata": {
      "needs_background": "light"
     },
     "output_type": "display_data"
    }
   ],
   "source": [
    "%matplotlib inline\n",
    "import matplotlib\n",
    "import matplotlib.pyplot as plt\n",
    "from matplotlib.colors import LogNorm\n",
    "\n",
    "histogram = output['dphiDiFatJet']\n",
    "ax = hist.plot1d(histogram,overlay=\"dataset\", stack=False)"
   ]
  },
  {
   "cell_type": "code",
   "execution_count": 103,
   "metadata": {},
   "outputs": [
    {
     "data": {
      "image/png": "[encoded data removed]",
      "text/plain": [
       "<Figure size 432x288 with 1 Axes>"
      ]
     },
     "metadata": {
      "needs_background": "light"
     },
     "output_type": "display_data"
    }
   ],
   "source": [
    "histogram = output['WH_deltaR']\n",
    "ax = hist.plot1d(histogram,overlay=\"dataset\", stack=False)"
   ]
  },
  {
   "cell_type": "code",
   "execution_count": 87,
   "metadata": {},
   "outputs": [],
   "source": [
    "from plots.helpers import *\n",
    "bins = {\\\n",
    "    'N_AK4':    {'axis': 'multiplicity',  'overflow':'over',  'bins': hist.Bin('multiplicity', r'$N_{AK4 jet}$', 6, -0.5, 5.5)},\n",
    "    'N_AK4_SR':    {'axis': 'multiplicity',  'overflow':'over',  'bins': hist.Bin('multiplicity', r'$N_{AK4 jet}$', 6, -0.5, 5.5)},\n",
    "    'N_AK8':    {'axis': 'multiplicity',  'overflow':'over',  'bins': hist.Bin('multiplicity', r'$N_{AK8 jet}$', 5, -0.5, 4.5)},\n",
    "    'N_b':      {'axis': 'multiplicity',  'overflow':'over',  'bins': hist.Bin('multiplicity', r'$N_{b-tag}$', 5, -0.5, 4.5)},\n",
    "    'N_H':      {'axis': 'multiplicity',  'overflow':'over',  'bins': hist.Bin('multiplicity', r'$N_{H-tag}$', 5, -0.5, 4.5)},\n",
    "    'N_W':      {'axis': 'multiplicity',  'overflow':'over',  'bins': hist.Bin('multiplicity', r'$N_{W-tag}$', 5, -0.5, 4.5)},\n",
    "\n",
    "    'MET_pt':   {'axis': 'pt',      'overflow':'over',  'bins': hist.Bin('pt', r'$p_{T}^{miss}\\ (GeV)$', 20, 0, 800)},\n",
    "    'MET_pt_SR':   {'axis': 'pt',      'overflow':'over',  'bins': hist.Bin('pt', r'$p_{T}^{miss}\\ (GeV)$', np.array([250,400,600]))},\n",
    "    'MET_pt_CR':   {'axis': 'pt',      'overflow':'over',  'bins': hist.Bin('pt', r'$p_{T}^{miss}\\ (GeV)$', np.array([250,400,600]))},\n",
    "    'HT':       {'axis': 'ht',      'overflow':'over',  'bins': hist.Bin('pt', r'$H_{T} (AK4 jets) \\ (GeV)$', 25, 0, 2000)},    \n",
    "    'W_pt':     {'axis': 'pt',      'overflow':'over',  'bins': hist.Bin('pt', r'$p_{T} (W-tag)$', 8, 200, 600)},\n",
    "    'W_eta':    {'axis': 'eta',     'overflow':'over',  'bins': hist.Bin('eta', r'$\\eta (W-tag)$', 15, -5.5, 5.5)},\n",
    "    'H_pt':     {'axis': 'pt',      'overflow':'over',  'bins': hist.Bin('pt', r'$p_{T} (H-tag)$', 8, 200, 600)},\n",
    "    'H_eta':    {'axis': 'eta',     'overflow':'over',  'bins': hist.Bin('eta', r'$\\eta (H-tag)$', 15, -5.5, 5.5)},\n",
    "\n",
    "    'dphiDiFatJet': {'axis': 'delta',          'overflow':'over',  'bins': hist.Bin('delta', r'$\\Delta \\phi (AK8)$', 30, 0, 3)},\n",
    "    'dphiDiJet':    {'axis': 'delta',          'overflow':'over',  'bins': hist.Bin('delta', r'$\\Delta \\phi (AK4)$', 30, 0, 3)},\n",
    "    'WH_deltaPhi':  {'axis': 'delta',          'overflow':'over',  'bins': hist.Bin('delta', r'$\\Delta \\phi (WH)$', 6, 0, 3)},\n",
    "    'WH_deltaR':    {'axis': 'delta',          'overflow':'over',  'bins': hist.Bin('delta', r'$\\Delta R (WH)$', 10, 0, 5)},\n",
    "    'bb_deltaPhi':  {'axis': 'delta',          'overflow':'over',  'bins': hist.Bin('delta', r'$\\Delta \\phi (bb)$', 30, 0, 3)},\n",
    "    'bb_deltaR':    {'axis': 'delta',          'overflow':'over',  'bins': hist.Bin('delta', r'$\\Delta R (bb)$', 10, 0, 5)},\n",
    "    'min_dphiJetMet4': {'axis': 'delta',          'overflow':'over',  'bins': hist.Bin('delta', r'$\\Delta \\phi (j, p_{T}^{miss})$', 30, 0, 3)},\n",
    "        \n",
    "    'mtb_min':      {'axis': 'mass',  'overflow':'over',  'bins': hist.Bin('pt', r'$min M_{T} (b, p_{T}^{miss}) \\ (GeV)$', 25, 0, 500)},\n",
    "    'lead_AK8_pt':  {'axis': 'pt',    'overflow':'over',  'bins': hist.Bin('pt', r'$p{T} (lead. AK8) \\ (GeV)$', 20, 0, 1000)},\n",
    "    }"
   ]
  },
  {
   "cell_type": "code",
   "execution_count": 88,
   "metadata": {},
   "outputs": [],
   "source": [
    "from plots.helpers import *\n",
    "\n",
    "def saveFig( fig, ax, rax, path, name, scale='linear', shape=False, y_max=-1 ):\n",
    "    outdir = os.path.join(path,scale)\n",
    "    finalizePlotDir(outdir)\n",
    "    ax.set_yscale(scale)\n",
    "    ax.set_ylabel('Events')\n",
    "\n",
    "    if scale == 'linear':\n",
    "        if y_max<0 or True:\n",
    "            pass\n",
    "        else:\n",
    "            ax.set_ylim(0, 1 if shape else 1.2*y_max)\n",
    "    else:\n",
    "        if y_max<0 and not shape:\n",
    "            pass\n",
    "        else:\n",
    "            ax.set_ylim(0.000005 if shape else 0.05, 3 if shape else 300*y_max)\n",
    "\n",
    "    handles, labels = ax.get_legend_handles_labels()\n",
    "    new_labels = []\n",
    "    for handle, label in zip(handles, labels):\n",
    "        #print (handle, label)\n",
    "        try:\n",
    "            new_labels.append(my_labels[label])\n",
    "            if not label=='pseudodata':\n",
    "                handle.set_color(colors[label])\n",
    "        except:\n",
    "            pass\n",
    "\n",
    "    if rax:\n",
    "        plt.subplots_adjust(hspace=0)\n",
    "        rax.set_ylabel('Obs./Pred.')\n",
    "        rax.set_ylim(0.5,1.5)\n",
    "\n",
    "    ax.legend(title='',ncol=2,handles=handles, labels=new_labels, frameon=False)\n",
    "\n",
    "    fig.text(0., 0.995, '$\\\\bf{CMS}$', fontsize=20,  horizontalalignment='left', verticalalignment='bottom', transform=ax.transAxes )\n",
    "    fig.text(0.15, 1., '$\\\\it{Simulation}$', fontsize=14, horizontalalignment='left', verticalalignment='bottom', transform=ax.transAxes )\n",
    "    fig.text(0.8, 1., '13 TeV', fontsize=14, horizontalalignment='left', verticalalignment='bottom', transform=ax.transAxes )\n",
    "\n",
    "    fig.savefig(os.path.join(outdir, \"{}.pdf\".format(name)))\n",
    "    fig.savefig(os.path.join(outdir, \"{}.png\".format(name)))\n",
    "    #ax.clear()"
   ]
  },
  {
   "cell_type": "code",
   "execution_count": 106,
   "metadata": {},
   "outputs": [
    {
     "data": {
      "image/png": "[encoded data removed]",
      "text/plain": [
       "<Figure size 504x504 with 1 Axes>"
      ]
     },
     "metadata": {
      "needs_background": "light"
     },
     "output_type": "display_data"
    }
   ],
   "source": [
    "# Make some of the plots\n",
    "\n",
    "plotDir = '/home/users/dspitzba/public_html/dump/WH_had/'\n",
    "finalizePlotDir(plotDir)\n",
    "\n",
    "if True:\n",
    "    name = 'MET_pt_SR'\n",
    "\n",
    "    histogram = output[name]\n",
    "\n",
    "    axis = bins[name]['axis']\n",
    "    histogram = histogram.rebin(axis, bins[name]['bins'])\n",
    "\n",
    "    y_max = histogram.sum(\"dataset\").values(overflow='all')[()].max()\n",
    "    y_over = histogram.sum(\"dataset\").values(overflow='all')[()][-1]\n",
    "\n",
    "    import re\n",
    "    bkgonly = re.compile('(?!1000_1_scan)')\n",
    "    notdata = re.compile('(?!pseudodata)')\n",
    "    notsignal = re.compile('(?!1000_1_scan)')\n",
    "\n",
    "    fig, ax = plt.subplots(1,1,figsize=(7,7))\n",
    "    \n",
    "    # get axes\n",
    "    hist.plot1d(histogram[bkgonly], overlay=\"dataset\", ax=ax, stack=True, overflow=bins[name]['overflow'], clear=False, line_opts=None, fill_opts=fill_opts, error_opts=error_opts, order=['QCD', 'ZNuNu', 'LL']) #error_opts??\n",
    "    hist.plot1d(histogram['1000_1_scan'], overlay=\"dataset\", ax=ax, overflow=bins[name]['overflow'], line_opts={'linewidth':3}, clear=False)\n",
    "\n",
    "    for l in ['linear']:\n",
    "        saveFig(fig, ax, None, plotDir, name, scale=l, shape=False, y_max=y_max)\n"
   ]
  },
  {
   "cell_type": "code",
   "execution_count": 107,
   "metadata": {
    "scrolled": true
   },
   "outputs": [
    {
     "data": {
      "text/plain": [
       "{('LL',): array([0.85726557, 0.43957028, 0.02597757])}"
      ]
     },
     "execution_count": 107,
     "metadata": {},
     "output_type": "execute_result"
    }
   ],
   "source": [
    "histogram['LL'].values(overflow='over')"
   ]
  },
  {
   "cell_type": "code",
   "execution_count": 160,
   "metadata": {},
   "outputs": [],
   "source": [
    "# Do some math with LL\n",
    "name = 'MET_pt_SR'\n",
    "hist_SR = output['MET_pt_SR'].copy()\n",
    "hist_CR = output['MET_pt_CR'].copy()\n",
    "axis = bins[name]['axis']\n",
    "hist_SR = hist_SR.rebin(axis, bins[name]['bins'])\n",
    "hist_CR = hist_CR.rebin(axis, bins[name]['bins'])"
   ]
  },
  {
   "cell_type": "code",
   "execution_count": 161,
   "metadata": {},
   "outputs": [],
   "source": [
    "bkgonly = re.compile('(?!(Data|1000_1_scan))')\n",
    "CR_data = hist_CR['Data'].sum('dataset').values(overflow='over')[()]\n",
    "transfer_factor = hist_SR['LL'].sum('dataset').values(overflow='over')[()]/hist_CR[bkgonly].sum('dataset').values(overflow='over')[()]\n",
    "estimate = CR_data*transfer_factor"
   ]
  },
  {
   "cell_type": "code",
   "execution_count": 162,
   "metadata": {},
   "outputs": [
    {
     "data": {
      "text/plain": [
       "array([0.61699904, 0.36220124, 0.01991697])"
      ]
     },
     "execution_count": 162,
     "metadata": {},
     "output_type": "execute_result"
    }
   ],
   "source": [
    "estimate"
   ]
  },
  {
   "cell_type": "code",
   "execution_count": 100,
   "metadata": {},
   "outputs": [
    {
     "data": {
      "text/plain": [
       "array([0.00770612, 0.0107409 , 0.        ])"
      ]
     },
     "execution_count": 100,
     "metadata": {},
     "output_type": "execute_result"
    }
   ],
   "source": [
    "transfer_factor"
   ]
  },
  {
   "cell_type": "code",
   "execution_count": 130,
   "metadata": {},
   "outputs": [
    {
     "data": {
      "text/plain": [
       "array([0.85726557, 0.43957028, 0.02597757])"
      ]
     },
     "execution_count": 130,
     "metadata": {},
     "output_type": "execute_result"
    }
   ],
   "source": [
    "# as comparison, pure MC yield\n",
    "hist_SR['LL'].sum('dataset').values(overflow='over')[()]"
   ]
  },
  {
   "cell_type": "markdown",
   "metadata": {},
   "source": [
    "## Validation region"
   ]
  },
  {
   "cell_type": "code",
   "execution_count": 163,
   "metadata": {},
   "outputs": [],
   "source": [
    "# Do some math with LL\n",
    "name = 'MET_pt_SR'\n",
    "hist_SR = output['MET_pt_VR_SR'].copy()\n",
    "hist_CR = output['MET_pt_VR_CR'].copy()\n",
    "axis = bins[name]['axis']\n",
    "hist_SR = hist_SR.rebin(axis, bins[name]['bins'])\n",
    "hist_CR = hist_CR.rebin(axis, bins[name]['bins'])"
   ]
  },
  {
   "cell_type": "code",
   "execution_count": 164,
   "metadata": {},
   "outputs": [],
   "source": [
    "bkgonly = re.compile('(?!(Data|1000_1_scan))')\n",
    "CR_data = hist_CR['Data'].sum('dataset').values(overflow='over')[()]\n",
    "transfer_factor = hist_SR['LL'].sum('dataset').values(overflow='over')[()]/hist_CR[bkgonly].sum('dataset').values(overflow='over')[()]\n",
    "estimate = CR_data*transfer_factor\n",
    "observation = hist_SR['Data'].sum('dataset').values(overflow='over')[()]"
   ]
  },
  {
   "cell_type": "code",
   "execution_count": 166,
   "metadata": {},
   "outputs": [
    {
     "data": {
      "text/plain": [
       "{('Data',): 51.0,\n",
       " ('ZNuNu',): 5.8576230169100425,\n",
       " ('QCD',): 0.45686286874115467,\n",
       " ('LL',): 70.54493448156262,\n",
       " ('1000_1_scan',): 0.026243986490635505}"
      ]
     },
     "execution_count": 166,
     "metadata": {},
     "output_type": "execute_result"
    }
   ],
   "source": [
    "hist_SR.sum('pt').values(overflow='over')"
   ]
  },
  {
   "cell_type": "code",
   "execution_count": 165,
   "metadata": {},
   "outputs": [
    {
     "data": {
      "text/plain": [
       "array([25.9633631 , 11.42982412,  3.71250452])"
      ]
     },
     "execution_count": 165,
     "metadata": {},
     "output_type": "execute_result"
    }
   ],
   "source": [
    "estimate"
   ]
  },
  {
   "cell_type": "code",
   "execution_count": 158,
   "metadata": {},
   "outputs": [
    {
     "data": {
      "text/plain": [
       "array([38., 13.,  6.])"
      ]
     },
     "execution_count": 158,
     "metadata": {},
     "output_type": "execute_result"
    }
   ],
   "source": [
    "observation"
   ]
  },
  {
   "cell_type": "code",
   "execution_count": 159,
   "metadata": {},
   "outputs": [
    {
     "data": {
      "text/plain": [
       "array([43., 19.,  4.])"
      ]
     },
     "execution_count": 159,
     "metadata": {},
     "output_type": "execute_result"
    }
   ],
   "source": [
    "CR_data"
   ]
  },
  {
   "cell_type": "code",
   "execution_count": 143,
   "metadata": {},
   "outputs": [
    {
     "data": {
      "text/plain": [
       "array([0.58276644, 0.64979317, 0.63407609])"
      ]
     },
     "execution_count": 143,
     "metadata": {},
     "output_type": "execute_result"
    }
   ],
   "source": [
    "transfer_factor"
   ]
  },
  {
   "cell_type": "code",
   "execution_count": 173,
   "metadata": {},
   "outputs": [
    {
     "name": "stdout",
     "output_type": "stream",
     "text": [
      "\n",
      "2016\n",
      "CR obs: [59. 13.  3.]\n",
      "TF: [0.00770612 0.0107409  0.        ]\n",
      "ewk: [0.13060819 0.21517631 0.01710251]\n",
      "LL estimate: [0.45466113 0.13963169 0.        ]\n",
      "total estimate: [0.58526932 0.354808   0.01710251]\n",
      "observation: [0. 0. 0.]\n",
      "\n",
      "2017\n",
      "CR obs: [67. 16.  5.]\n",
      "TF: [0.01111862 0.02023457 0.06297337]\n",
      "ewk: [0.39543408 0.27210215 0.0435152 ]\n",
      "LL estimate: [0.74494766 0.32375305 0.31486685]\n",
      "total estimate: [1.14038173 0.5958552  0.35838205]\n",
      "observation: [0. 0. 0.]\n",
      "\n",
      "2018\n",
      "CR obs: [86. 26.  4.]\n",
      "TF: [0.00717441 0.01393082 0.00497924]\n",
      "ewk: [0.45924238 0.35232516 0.1648042 ]\n",
      "LL estimate: [0.61699904 0.36220124 0.01991697]\n",
      "total estimate: [1.07624143 0.71452641 0.18472117]\n",
      "observation: [0. 0. 0.]\n",
      "\n",
      "Full Run2:\n",
      "Total CR: [212.  55.  12.]\n",
      "EWK: [0.98528465 0.83960362 0.22542191]\n",
      "LL: [1.81660783 0.82558599 0.33478382]\n",
      "Estimate: [2.80189248 1.6651896  0.56020573]\n",
      "Observed: [0. 0. 0.]\n"
     ]
    }
   ],
   "source": [
    "\n",
    "## This can be either validation region or signal region\n",
    "name = 'MET_pt_SR'\n",
    "axis = bins[name]['axis']\n",
    "bkgonly = re.compile('(?!(Data|1000_1_scan))')\n",
    "CR = 'MET_pt_CR'\n",
    "SR = 'MET_pt_SR'\n",
    "\n",
    "outputs = {}\n",
    "years  = [2016,2017,2018]\n",
    "\n",
    "total_CR_data  = np.array([0.,0.,0.])\n",
    "total_estimate = np.array([0.,0.,0.])\n",
    "total_obs      = np.array([0.,0.,0.])\n",
    "LL_estimate    = np.array([0.,0.,0.])\n",
    "ewk_estimate   = np.array([0.,0.,0.])\n",
    "TF_num         = np.array([0.,0.,0.])\n",
    "TF_denom       = np.array([0.,0.,0.])\n",
    "\n",
    "for y in years:\n",
    "    print ()\n",
    "    print (y)\n",
    "    cache = dir_archive(os.path.join(os.path.expandvars(cfg['caches']['base']), \"WH_%s\"%y), serialized=True)\n",
    "    cache.load()\n",
    "    tmp = cache.get('simple_output')\n",
    "    outputs[year] = tmp\n",
    "    hist_SR = tmp[SR].copy()\n",
    "    hist_CR = tmp[CR].copy()\n",
    "    hist_SR = hist_SR.rebin(axis, bins[name]['bins'])\n",
    "    hist_CR = hist_CR.rebin(axis, bins[name]['bins'])\n",
    "    CR_data = hist_CR['Data'].sum('dataset').values(overflow='over')[()]\n",
    "    TF_num += hist_SR['LL'].sum('dataset').values(overflow='over')[()]\n",
    "    TF_denom += hist_CR[bkgonly].sum('dataset').values(overflow='over')[()]\n",
    "    transfer_factor = hist_SR['LL'].sum('dataset').values(overflow='over')[()]/hist_CR[bkgonly].sum('dataset').values(overflow='over')[()]\n",
    "    estimate = CR_data*transfer_factor\n",
    "    observation = hist_SR['Data'].sum('dataset').values(overflow='over')[()]\n",
    "    ewk = hist_SR['ZNuNu'].sum('dataset').values(overflow='over')[()]\n",
    "    print (\"CR obs:\", CR_data)\n",
    "    print (\"TF:\", transfer_factor)\n",
    "    print (\"ewk:\", ewk)\n",
    "    print (\"LL estimate:\", estimate)\n",
    "    print (\"total estimate:\", estimate+ewk)\n",
    "    print (\"observation:\", observation)\n",
    "    \n",
    "    total_CR_data += CR_data\n",
    "    LL_estimate += estimate\n",
    "    ewk_estimate += ewk\n",
    "    total_estimate += (estimate + ewk)\n",
    "    total_obs += observation\n",
    "    \n",
    "print ()\n",
    "print (\"Full Run2:\")\n",
    "print (\"Total CR:\", total_CR_data)\n",
    "print (\"EWK:\", ewk_estimate)\n",
    "print (\"LL:\", LL_estimate)\n",
    "print (\"Estimate:\", total_estimate)\n",
    "print (\"Observed:\", total_obs)"
   ]
  },
  {
   "cell_type": "code",
   "execution_count": 122,
   "metadata": {},
   "outputs": [
    {
     "data": {
      "text/plain": [
       "{('Data',): (50.0, 50.0),\n",
       " ('ZNuNu',): (5.696657013546359, 0.23126508620870675),\n",
       " ('QCD',): (0.45686286874115467, 0.10449696549560067),\n",
       " ('LL',): (67.34329574271595, 14.274302019712223),\n",
       " ('1000_1_scan',): (0.026243986490635505, 2.6758251971421518e-05)}"
      ]
     },
     "execution_count": 122,
     "metadata": {},
     "output_type": "execute_result"
    }
   ],
   "source": [
    "hist_SR.sum('pt').values('overflow')"
   ]
  },
  {
   "cell_type": "code",
   "execution_count": 125,
   "metadata": {},
   "outputs": [
    {
     "data": {
      "text/plain": [
       "array([2.5586688 , 3.13798822, 2.8510501 ])"
      ]
     },
     "execution_count": 125,
     "metadata": {},
     "output_type": "execute_result"
    }
   ],
   "source": [
    "hist_SR['ZNuNu'].sum('dataset').values(overflow='over')[()]"
   ]
  },
  {
   "cell_type": "code",
   "execution_count": 175,
   "metadata": {},
   "outputs": [
    {
     "data": {
      "text/plain": [
       "array([0.00850017, 0.01494326, 0.01558672])"
      ]
     },
     "execution_count": 175,
     "metadata": {},
     "output_type": "execute_result"
    }
   ],
   "source": [
    "TF_num/TF_denom"
   ]
  },
  {
   "cell_type": "code",
   "execution_count": null,
   "metadata": {},
   "outputs": [],
   "source": [
    "TF_num/TF_denom"
   ]
  },
  {
   "cell_type": "code",
   "execution_count": 176,
   "metadata": {},
   "outputs": [
    {
     "data": {
      "text/plain": [
       "array([276.10979356,  67.14484474,  10.80998736])"
      ]
     },
     "execution_count": 176,
     "metadata": {},
     "output_type": "execute_result"
    }
   ],
   "source": [
    "TF_denom"
   ]
  },
  {
   "cell_type": "code",
   "execution_count": null,
   "metadata": {},
   "outputs": [],
   "source": []
  }
 ],
 "metadata": {
  "kernelspec": {
   "display_name": "coffeaEnv",
   "language": "python",
   "name": "coffeaenv"
  },
  "language_info": {
   "codemirror_mode": {
    "name": "ipython",
    "version": 3
   },
   "file_extension": ".py",
   "mimetype": "text/x-python",
   "name": "python",
   "nbconvert_exporter": "python",
   "pygments_lexer": "ipython3",
   "version": "3.6.4"
  }
 },
 "nbformat": 4,
 "nbformat_minor": 2
}
