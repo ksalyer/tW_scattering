{
 "cells": [
  {
   "cell_type": "code",
   "execution_count": 1,
   "metadata": {},
   "outputs": [],
   "source": [
    "%load_ext autoreload\n",
    "%autoreload 2\n",
    "\n",
    "import os\n",
    "import time\n",
    "import glob\n",
    "import re\n",
    "import pandas as pd\n",
    "from functools import reduce\n",
    "from klepto.archives import dir_archive\n",
    "\n",
    "import numpy as np\n",
    "from tqdm.auto import tqdm\n",
    "import coffea.processor as processor\n",
    "from coffea.processor.accumulator import AccumulatorABC\n",
    "from coffea.analysis_objects import JaggedCandidateArray\n",
    "from coffea.btag_tools import BTagScaleFactor\n",
    "from coffea import hist\n",
    "import pandas as pd\n",
    "import uproot_methods\n",
    "import uproot\n",
    "import awkward\n",
    "import copy\n",
    "\n",
    "%matplotlib inline\n",
    "import matplotlib\n",
    "import matplotlib.pyplot as plt\n",
    "from matplotlib.colors import LogNorm\n",
    "\n",
    "from Tools.config_helpers import *\n",
    "from Tools.helpers import mergeArray, mt, get_scheduler_address\n",
    "\n",
    "from Tools.objects import Collections\n",
    "from Tools.cutflow import Cutflow\n",
    "\n",
    "# This just tells matplotlib not to open any\n",
    "# interactive windows.\n",
    "matplotlib.use('Agg')"
   ]
  },
  {
   "cell_type": "code",
   "execution_count": 2,
   "metadata": {},
   "outputs": [],
   "source": [
    "# Imports and defintions for the actual analysis to run\n",
    "\n",
    "from Tools.WH_objects       import *\n",
    "from Tools.WH_scalefactors  import LeptonSF\n",
    "from Tools.WH_deepAK8       import getWTagSF\n",
    "from Tools.WH_signalWeights import getSignalWeight\n",
    "from Tools.WH_samples       import * "
   ]
  },
  {
   "cell_type": "code",
   "execution_count": 3,
   "metadata": {},
   "outputs": [],
   "source": [
    "processesList = ['TTJets_old','TTJets_new']\n",
    "\n",
    "plotDir = '/home/users/ksalyer/public_html/dump/WH_had/'\n",
    "\n",
    "year = 2018"
   ]
  },
  {
   "cell_type": "code",
   "execution_count": 9,
   "metadata": {},
   "outputs": [],
   "source": [
    "class analysisProcessor(processor.ProcessorABC):\n",
    "    \"\"\"Processor used for running the analysis\"\"\"\n",
    "    def __init__(self):\n",
    "        \n",
    "        # we can use a large number of bins and rebin later\n",
    "        dataset_axis        = hist.Cat(\"dataset\",   \"Primary dataset\")\n",
    "        pt_axis             = hist.Bin(\"pt\",        r\"$p_{T}$ (GeV)\", 1000, 0, 1000)\n",
    "        p_axis              = hist.Bin(\"p\",         r\"$p$ (GeV)\", 1000, 0, 2500)\n",
    "        ht_axis             = hist.Bin(\"ht\",        r\"$H_{T}$ (GeV)\", 500, 0, 5000)\n",
    "        mass_axis           = hist.Bin(\"mass\",      r\"M (GeV)\", 1000, 0, 2000)\n",
    "        eta_axis            = hist.Bin(\"eta\",       r\"$\\eta$\", 60, -5.5, 5.5)\n",
    "        delta_axis          = hist.Bin(\"delta\",     r\"$\\delta$\", 100,0,10 )\n",
    "        multiplicity_axis   = hist.Bin(\"multiplicity\",         r\"N\", 20, -0.5, 19.5)\n",
    "        norm_axis           = hist.Bin(\"norm\",         r\"N\", 25, 0, 1)\n",
    "\n",
    "        self._accumulator = processor.dict_accumulator({\n",
    "            \"met\":          hist.Hist(\"Counts\", dataset_axis, pt_axis),\n",
    "            \n",
    "            'TTJets_old':   processor.defaultdict_accumulator(int),\n",
    "            'TTJets_new':   processor.defaultdict_accumulator(int),\n",
    "        })\n",
    "\n",
    "    @property\n",
    "    def accumulator(self):\n",
    "        return self._accumulator\n",
    "\n",
    "    def process(self, df):\n",
    "        \"\"\"\n",
    "        Processing function. This is where the actual analysis happens.\n",
    "        \"\"\"\n",
    "        output = self.accumulator.identity()\n",
    "        dataset = df[\"dataset\"]\n",
    "        cfg = loadConfig()\n",
    "        \n",
    "        ## correct x-sec for signal\n",
    "        if dataset.count('TChiWH'):\n",
    "            signalWeight = getSignalWeight(df, dataset, year=year)\n",
    "            df['weight'] = signalWeight\n",
    "            #signal_xsec[dataset]['xsec'] / signal_xsec[dataset]['sumweight']\n",
    "        \n",
    "        ## MET -> can switch to puppi MET\n",
    "        met_pt  = df[\"MET_pt\"]  if not year==2017 else df[\"METFixEE2017_pt\"]\n",
    "        met_phi = df[\"MET_phi\"] if not year==2017 else df[\"METFixEE2017_phi\"]\n",
    "        \n",
    "        ## Load Objects\n",
    "        muon     = getMuons(df, WP='veto')\n",
    "        electron = getElectrons(df, WP='veto')\n",
    "        tau      = getTaus(df)\n",
    "        isotrack = getIsoTracks(df)\n",
    "        fatjet   = getFatJets(df)\n",
    "        jet      = getJets(df)\n",
    "        \n",
    "        triggers = getTriggers(df, year=year, dataset=dataset) \n",
    "        filters  = getFilters(df, year=year, dataset=dataset)\n",
    "        \n",
    "        sf = LeptonSF(year=year)\n",
    "        leptonSF = sf.get(electron, muon)\n",
    "        \n",
    "        stitch = df['stitch']\n",
    "        \n",
    "        ## Clean Objects\n",
    "        skimjet   = jet[(jet.pt>30) & (jet.jetId>1) & (abs(jet.eta)<2.4)]\n",
    "        jet       = jet[~jet.match(muon, deltaRCut=0.4)] # remove jets that overlap with muons\n",
    "        jet       = jet[~jet.match(electron, deltaRCut=0.4)] # remove jets that overlap with electrons\n",
    "        jet       = jet[jet.pt.argsort(ascending=False)] # sort the jets\n",
    "        extrajet  = jet[~jet.match(fatjet, deltaRCut=0.8)] # remove AK4 jets that overlap with AK8 jets\n",
    "        btag      = getBTags(jet, year=year)\n",
    "        \n",
    "        ## H-tagged Variables\n",
    "        htag = getHTags(fatjet, year=year)        \n",
    "        lead_htag = htag[htag.pt.argmax()]\n",
    "        \n",
    "        ## W-tagged Variables\n",
    "        # deepAK8 working points: https://twiki.cern.ch/twiki/bin/viewauth/CMS/DeepAK8Tagging2018WPsSFs\n",
    "        wtag = getWTags(fatjet, year=year)\n",
    "        wtag = wtag[~wtag.match(htag, deltaRCut=0.8)]\n",
    "        lead_wtag = wtag[wtag.pt.argmax()]\n",
    "        \n",
    "        if dataset.lower().count('data')==0:\n",
    "            #print(dataset)\n",
    "            GenW = getGenW(df)\n",
    "            #print(GenW)\n",
    "            wtag_SF = getWTagSF(wtag, GenW, year=year)\n",
    "\n",
    "        ## variables for selection\n",
    "        if dataset == 'TTJets_old':\n",
    "            selection = ( (btag.counts==2) & (electron.counts+muon.counts==1) )\n",
    "        else:\n",
    "            selection = ( (btag.counts==2) & (electron.counts+muon.counts==1) & (stitch==1) )\n",
    "       \n",
    "        #output['totalEvents']['all'] += len(df['weight'])\n",
    "        \n",
    "        # Cutflow\n",
    "        processes = processesList\n",
    "        #weight = np.ones(len(df['weight'])) if dataset=='Data' else df['weight']\n",
    "        #lumi = 1 if dataset=='Data' else 60.*LeptonSF\n",
    "        #fullweight = weight * lumi\n",
    "        weight      = np.ones(len(df['weight'])) if dataset=='Data' else df['weight']*df['puWeight']*leptonSF*wtag_SF\n",
    "        weight_noWSF = np.ones(len(df['weight'])) if dataset=='Data' else df['weight']*df['puWeight']*leptonSF\n",
    "        lumis       = {2016: 36., 2017: 41.5, 2018: 60.}\n",
    "        cfg['lumi'] = 1 if dataset=='Data' else lumis[year]\n",
    "        fullweight  = weight*cfg['lumi']\n",
    "        fullweight_noWSF  = weight_noWSF*cfg['lumi']\n",
    "\n",
    "        ### And fill the histograms\n",
    "        output['met'].fill(dataset=dataset, pt=met_pt[selection].flatten(), weight=fullweight[selection])\n",
    "        \n",
    "        return output\n",
    "\n",
    "    def postprocess(self, accumulator):\n",
    "        return accumulator"
   ]
  },
  {
   "cell_type": "code",
   "execution_count": 10,
   "metadata": {},
   "outputs": [
    {
     "data": {
      "application/vnd.jupyter.widget-view+json": {
       "model_id": "e011c4a764d74a3bb1e75877bf73e78c",
       "version_major": 2,
       "version_minor": 0
      },
      "text/html": [
       "<p>Failed to display Jupyter Widget of type <code>HBox</code>.</p>\n",
       "<p>\n",
       "  If you're reading this message in the Jupyter Notebook or JupyterLab Notebook, it may mean\n",
       "  that the widgets JavaScript is still loading. If this message persists, it\n",
       "  likely means that the widgets JavaScript library is either not installed or\n",
       "  not enabled. See the <a href=\"https://ipywidgets.readthedocs.io/en/stable/user_install.html\">Jupyter\n",
       "  Widgets Documentation</a> for setup instructions.\n",
       "</p>\n",
       "<p>\n",
       "  If you're reading this message in another frontend (for example, a static\n",
       "  rendering on GitHub or <a href=\"https://nbviewer.jupyter.org/\">NBViewer</a>),\n",
       "  it may mean that your frontend doesn't currently support widgets.\n",
       "</p>\n"
      ],
      "text/plain": [
       "HBox(children=(HTML(value='Processing'), FloatProgress(value=0.0, max=597.0), HTML(value='')))"
      ]
     },
     "metadata": {},
     "output_type": "display_data"
    },
    {
     "name": "stdout",
     "output_type": "stream",
     "text": [
      "\n"
     ]
    }
   ],
   "source": [
    "fileset_2018 = {'TTJets_old':glob.glob('/hadoop/cms/store/user/mbryson/WH_hadronic/v0.2.4/TTJets_DiLept_Tune*/*.root')\n",
    "                            +glob.glob('/hadoop/cms/store/user/mbryson/WH_hadronic/v0.2.4/TTJets_SingleLeptFromTbar_Tune*/*.root')\n",
    "                            +glob.glob('/hadoop/cms/store/user/mbryson/WH_hadronic/v0.2.4/TTJets_SingleLeptFromT_Tune*/*.root'),\n",
    "                'TTJets_new':glob.glob('/hadoop/cms/store/user/mbryson/WH_hadronic/v0.2.4/TTJets_DiLept_*/*.root')\n",
    "                            +glob.glob('/hadoop/cms/store/user/mbryson/WH_hadronic/v0.2.4/TTJets_SingleLeptFromTbar_*/*.root')\n",
    "                            +glob.glob('/hadoop/cms/store/user/mbryson/WH_hadronic/v0.2.4/TTJets_SingleLeptFromT_*/*.root')}\n",
    "\n",
    "output_2018 = processor.run_uproot_job(fileset_2018,\n",
    "                                    treename='Events',\n",
    "                                    processor_instance=analysisProcessor(),\n",
    "                                    executor=processor.futures_executor,\n",
    "                                    executor_args={'workers': 12, 'function_args': {'flatten': False}},\n",
    "                                    chunksize=500000,\n",
    "                                 )"
   ]
  },
  {
   "cell_type": "code",
   "execution_count": 11,
   "metadata": {},
   "outputs": [],
   "source": [
    "err_opts_rat = {\n",
    "    'linestyle': 'none',\n",
    "    'marker': '.',\n",
    "    'markersize': 10.,\n",
    "    'color':'#8AC926',\n",
    "    'elinewidth': 1}\n",
    "\n",
    "lineOverlayOpts = {\n",
    "    'color': [('#1982C4'),('#F76F8E')]\n",
    "}\n",
    "\n",
    "outdir = plotDir+\"baby_verification/\""
   ]
  },
  {
   "cell_type": "code",
   "execution_count": 12,
   "metadata": {},
   "outputs": [],
   "source": [
    "def saveoverlayshape(hists, outdir, name):\n",
    "    import re\n",
    "    old = hists['TTJets_old']\n",
    "    new = hists['TTJets_new']\n",
    "    \n",
    "    plt.rcParams.update({'font.size': 14,'axes.titlesize': 18,'axes.labelsize': 18,\n",
    "                         'xtick.labelsize': 12,'ytick.labelsize': 12})\n",
    "    fig, (ax, rax) = plt.subplots(nrows=2,ncols=1, figsize=(7,7),\n",
    "    gridspec_kw={\"height_ratios\": (3, 1)}, sharex=True)\n",
    "    fig.subplots_adjust(hspace=.07)\n",
    "    hist.plot1d(hists, overlay=\"dataset\",  ax=ax, clear=False, density = True, stack=False,\n",
    "                line_opts = lineOverlayOpts, overflow = 'over')\n",
    "    ax.set_yscale('log')\n",
    "    ax.set_ylim(0, 1)\n",
    "    ax.set_xlabel(None)\n",
    "    leg = ax.legend()\n",
    "    hist.plotratio(num=old.sum('dataset'), denom=new.sum('dataset'), ax=rax, clear = False,\n",
    "                   error_opts = err_opts_rat, denom_fill_opts={}, guide_opts={}, \n",
    "                   unc='num', overflow = 'over')\n",
    "    rax.set_ylim(0,2)\n",
    "    rax.set_ylabel('Ratio')\n",
    "    fig.savefig(os.path.join(outdir, \"{}_log.png\".format(name)))\n",
    "    fig.savefig(os.path.join(outdir, \"{}_log.pdf\".format(name)))\n",
    "    fig.clear()"
   ]
  },
  {
   "cell_type": "code",
   "execution_count": 13,
   "metadata": {},
   "outputs": [
    {
     "name": "stderr",
     "output_type": "stream",
     "text": [
      "/cvmfs/cms.cern.ch/slc6_amd64_gcc700/external/py2-ipykernel/4.8.2-gnimlf2/lib/python3.6/site-packages/ipykernel_launcher.py:14: UserWarning: Attempted to set non-positive bottom ylim on a log-scaled axis.\n",
      "Invalid limit will be ignored.\n",
      "  \n",
      "/home/users/ksalyer/CMSSW_10_2_9/src/tW_scattering/coffeaEnv/lib/python3.6/site-packages/coffea/hist/plot.py:357: RuntimeWarning: divide by zero encountered in true_divide\n",
      "  rsumw = sumw_num / sumw_denom\n",
      "/home/users/ksalyer/CMSSW_10_2_9/src/tW_scattering/coffeaEnv/lib/python3.6/site-packages/coffea/hist/plot.py:357: RuntimeWarning: invalid value encountered in true_divide\n",
      "  rsumw = sumw_num / sumw_denom\n",
      "/home/users/ksalyer/CMSSW_10_2_9/src/tW_scattering/coffeaEnv/lib/python3.6/site-packages/coffea/hist/plot.py:364: RuntimeWarning: divide by zero encountered in true_divide\n",
      "  rsumw_err = np.abs(poisson_interval(rsumw, sumw2_num / sumw_denom**2) - rsumw)\n",
      "/home/users/ksalyer/CMSSW_10_2_9/src/tW_scattering/coffeaEnv/lib/python3.6/site-packages/coffea/hist/plot.py:364: RuntimeWarning: invalid value encountered in true_divide\n",
      "  rsumw_err = np.abs(poisson_interval(rsumw, sumw2_num / sumw_denom**2) - rsumw)\n",
      "/home/users/ksalyer/CMSSW_10_2_9/src/tW_scattering/coffeaEnv/lib/python3.6/site-packages/coffea/hist/plot.py:39: RuntimeWarning: invalid value encountered in true_divide\n",
      "  scale[sumw != 0] = sumw2[sumw != 0] / sumw[sumw != 0]\n",
      "/home/users/ksalyer/CMSSW_10_2_9/src/tW_scattering/coffeaEnv/lib/python3.6/site-packages/coffea/hist/plot.py:378: RuntimeWarning: invalid value encountered in true_divide\n",
      "  denom_unc = poisson_interval(unity, sumw2_denom / sumw_denom**2)\n",
      "/cvmfs/cms.cern.ch/slc6_amd64_gcc700/external/py2-ipykernel/4.8.2-gnimlf2/lib/python3.6/site-packages/ipykernel_launcher.py:14: UserWarning: Attempted to set non-positive bottom ylim on a log-scaled axis.\n",
      "Invalid limit will be ignored.\n",
      "  \n",
      "/cvmfs/cms.cern.ch/slc6_amd64_gcc700/external/py2-ipykernel/4.8.2-gnimlf2/lib/python3.6/site-packages/ipykernel_launcher.py:14: UserWarning: Attempted to set non-positive bottom ylim on a log-scaled axis.\n",
      "Invalid limit will be ignored.\n",
      "  \n"
     ]
    },
    {
     "data": {
      "text/plain": [
       "<Figure size 504x504 with 0 Axes>"
      ]
     },
     "metadata": {},
     "output_type": "display_data"
    },
    {
     "data": {
      "text/plain": [
       "<Figure size 504x504 with 0 Axes>"
      ]
     },
     "metadata": {},
     "output_type": "display_data"
    },
    {
     "data": {
      "text/plain": [
       "<Figure size 504x504 with 0 Axes>"
      ]
     },
     "metadata": {},
     "output_type": "display_data"
    }
   ],
   "source": [
    "hists_2018 = output_2018[\"met\"]\n",
    "\n",
    "saveoverlayshape(hists_2018,outdir,\"MET_TTJets_2018_norebin\")\n",
    "\n",
    "new_pt18_bins1 = hist.Bin('pt',r'MET',40,200,1000)\n",
    "hists_2018 = hists_2018.rebin('pt',new_pt18_bins1)\n",
    "saveoverlayshape(hists_2018,outdir,\"MET_TTJets_2018_40bin\")\n",
    "\n",
    "new_pt18_bins = hist.Bin('pt',r'MET',20,200,1000)\n",
    "hists_2018 = hists_2018.rebin('pt',new_pt18_bins)\n",
    "saveoverlayshape(hists_2018,outdir,\"MET_TTJets_2018_20bin\")"
   ]
  },
  {
   "cell_type": "code",
   "execution_count": null,
   "metadata": {},
   "outputs": [],
   "source": []
  }
 ],
 "metadata": {
  "kernelspec": {
   "display_name": "coffeaEnv",
   "language": "python",
   "name": "coffeaenv"
  },
  "language_info": {
   "codemirror_mode": {
    "name": "ipython",
    "version": 3
   },
   "file_extension": ".py",
   "mimetype": "text/x-python",
   "name": "python",
   "nbconvert_exporter": "python",
   "pygments_lexer": "ipython3",
   "version": "3.6.4"
  }
 },
 "nbformat": 4,
 "nbformat_minor": 2
}
